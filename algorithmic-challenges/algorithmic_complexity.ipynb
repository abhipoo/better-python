{
 "cells": [
  {
   "cell_type": "markdown",
   "metadata": {},
   "source": [
    "## Different types of algorithmic complexities as denoted in Big O notation:\n",
    "\n",
    "### O(n^2) : n-square complexity. Occurs when we have a nested for loop\n",
    "\n",
    "### O(n) : Linear complexity. Occurs when we have a single loop. \n",
    "\n",
    "### O(2n) : This is also linear complexity because O(n) == O(2n) == O(3n). In terms of time complexity all are same i.e linear. Example of O(2n) complexity is having two separate for loops in your code (not nested). Their complexities add up -> n + n = 2n.\n",
    "\n",
    "### O(log(n)) : Logarithmic complexity. It means that as input size grows, the number of operations grows very slowly. Example: Binary search"
   ]
  },
  {
   "cell_type": "markdown",
   "metadata": {},
   "source": [
    "Resources:\n",
    "\n",
    "https://dev.to/leandronsp/how-to-reduce-the-time-complexity-of-nested-loops-1lkd\n",
    "\n",
    "https://towardsdatascience.com/logarithms-exponents-in-complexity-analysis-b8071979e847\n"
   ]
  },
  {
   "cell_type": "code",
   "execution_count": null,
   "metadata": {},
   "outputs": [],
   "source": []
  },
  {
   "cell_type": "code",
   "execution_count": null,
   "metadata": {},
   "outputs": [],
   "source": []
  },
  {
   "cell_type": "code",
   "execution_count": null,
   "metadata": {},
   "outputs": [],
   "source": []
  }
 ],
 "metadata": {
  "kernelspec": {
   "display_name": "Python 3.9.12 64-bit ('3.9.12')",
   "language": "python",
   "name": "python3"
  },
  "language_info": {
   "name": "python",
   "version": "3.9.12"
  },
  "orig_nbformat": 4,
  "vscode": {
   "interpreter": {
    "hash": "c3ef2950bab682039a2664a92c68d76c9e1082b3546275fa01132f9fcb2a7647"
   }
  }
 },
 "nbformat": 4,
 "nbformat_minor": 2
}
