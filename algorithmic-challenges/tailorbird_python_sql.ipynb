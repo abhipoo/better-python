{
 "cells": [
  {
   "cell_type": "markdown",
   "metadata": {},
   "source": [
    "### 1. Python question: Validate IPV4 address"
   ]
  },
  {
   "cell_type": "code",
   "execution_count": 30,
   "metadata": {},
   "outputs": [],
   "source": [
    "ip_str = '172.16.254.1'"
   ]
  },
  {
   "cell_type": "code",
   "execution_count": 31,
   "metadata": {},
   "outputs": [],
   "source": [
    "def validate_ip(input_str):\n",
    "    if len(ip_str.split('.')) != 4:\n",
    "        return False\n",
    "\n",
    "    for element in ip_str.split('.'):\n",
    "        #print(int(element))\n",
    "        print(str(int(element)))\n",
    "        if element != str(int(element)):\n",
    "            return False\n",
    "\n",
    "        if int(element) > -1 and int(element) < 256:\n",
    "            pass\n",
    "        else:\n",
    "            return False\n",
    "    return True\n"
   ]
  },
  {
   "cell_type": "code",
   "execution_count": 32,
   "metadata": {},
   "outputs": [
    {
     "name": "stdout",
     "output_type": "stream",
     "text": [
      "172\n",
      "16\n",
      "254\n",
      "1\n"
     ]
    },
    {
     "data": {
      "text/plain": [
       "True"
      ]
     },
     "execution_count": 32,
     "metadata": {},
     "output_type": "execute_result"
    }
   ],
   "source": [
    "validate_ip(ip_str)"
   ]
  },
  {
   "cell_type": "markdown",
   "metadata": {},
   "source": [
    "### 2. SQL question\n",
    "\n",
    "CREATE TABLE orders (\n",
    "  -- TODO:: create columns\n",
    "'Customer ID' int,\n",
    "'Order ID' int,\n",
    "'Order Value' float,\n",
    "'District' varchar,\n",
    "'Date' datetime\n",
    ");\n",
    "-- insert some values\n",
    "INSERT INTO orders VALUES (1351, 51539, 100023, 'Rewari', '2022-01-23');\n",
    "INSERT INTO orders VALUES (1572, 52360, 3498, 'Hisar', '2021-10-02');\n",
    "INSERT INTO orders VALUES (1572, 53512, 5670, 'Hisar', '2022-01-01');\n",
    "INSERT INTO orders VALUES (1157, 50490, 2312, 'GTB', '2020-05-09');\n",
    "INSERT INTO orders VALUES (1351, 56060, 200432, 'Rewari', '2021-03-07');\n",
    "INSERT INTO orders VALUES (1463, 55285, 417542, 'Ahmedabad', '2022-02-26');\n",
    "INSERT INTO orders VALUES (1969, 55556, 5353, 'GTB', '2020-10-23');\n",
    "INSERT INTO orders VALUES (1351, 51268, 8731, 'Rewari', '2021-06-02');\n",
    "\n",
    "select * from orders;\n",
    "\n",
    "From the above SQL table, write a single SQL query to extract below columns:\n",
    "\n",
    "#Customer ID , # Orders , Avg. Order Value, # Orders > 5K\n",
    "\n"
   ]
  },
  {
   "cell_type": "code",
   "execution_count": null,
   "metadata": {},
   "outputs": [],
   "source": []
  },
  {
   "cell_type": "code",
   "execution_count": null,
   "metadata": {},
   "outputs": [],
   "source": []
  }
 ],
 "metadata": {
  "kernelspec": {
   "display_name": "Python 3.10.5 ('scraping-Kb2SKe_L-py3.10')",
   "language": "python",
   "name": "python3"
  },
  "language_info": {
   "codemirror_mode": {
    "name": "ipython",
    "version": 3
   },
   "file_extension": ".py",
   "mimetype": "text/x-python",
   "name": "python",
   "nbconvert_exporter": "python",
   "pygments_lexer": "ipython3",
   "version": "3.10.5"
  },
  "orig_nbformat": 4,
  "vscode": {
   "interpreter": {
    "hash": "b5d39e22c81d37e5c586544ec13dae740018e48b1a064c8a41f3783d9007867e"
   }
  }
 },
 "nbformat": 4,
 "nbformat_minor": 2
}
