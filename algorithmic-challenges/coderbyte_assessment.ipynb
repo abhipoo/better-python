{
 "cells": [
  {
   "cell_type": "markdown",
   "metadata": {},
   "source": [
    "Problem 1:"
   ]
  },
  {
   "cell_type": "markdown",
   "metadata": {},
   "source": [
    "Array Challenge\n",
    "Have the function ArrayChallenge(strArr) read the array of strings stored in strArr, which will contain 2 elements: the first element will be a sequence of characters, and the second element will be a long string of comma-separated words, in alphabetical order, that represents a dictionary of some arbitrary length. For example: strArr can be: [\"hellocat\", \"apple,bat,cat,goodbye,hello,yellow,why\"]. Your goal is to determine if the first element in the input can be split into two words, where both words exist in the dictionary that is provided in the second input. In this example, the first element can be split into two words: hello and cat because both of those words are in the dictionary.\n",
    "\n",
    "Your program should return the two words that exist in the dictionary separated by a comma. So for the example above, your program should return hello,cat. There will only be one correct way to split the first element of characters into two words. If there is no way to split string into two words that exist in the dictionary, return the string not possible. The first element itself will never exist in the dictionary as a real word.\n",
    "Examples\n",
    "Input: [\"baseball\", \"a,all,b,ball,bas,base,cat,code,d,e,quit,z\"]\n",
    "Output: base,ball\n",
    "Input: [\"abcgefd\", \"a,ab,abc,abcg,b,c,dog,e,efd,zzzz\"]\n",
    "Output: abcg,efd"
   ]
  },
  {
   "cell_type": "markdown",
   "metadata": {},
   "source": [
    "Solution:"
   ]
  },
  {
   "cell_type": "code",
   "execution_count": 10,
   "metadata": {},
   "outputs": [],
   "source": [
    "def ArrayChallenge(strArr):\n",
    "  # code goes here\n",
    "  keyword = strArr[0]\n",
    "  elements = strArr[1].split(',')\n",
    "  for element in elements:\n",
    "    keyword_split = keyword.split(element, maxsplit=1)\n",
    "    if len(keyword_split)==2 and (keyword_split[0]=='' or keyword_split[1]==''):\n",
    "      if keyword_split[0]=='':\n",
    "        if keyword_split[1] in elements:\n",
    "          #other element found\n",
    "          return '{},{}'.format(element, keyword_split[1])\n",
    "      else:\n",
    "        if keyword_split[0] in elements:\n",
    "          #other element found\n",
    "          return '{},{}'.format(keyword_split[0], element)      \n",
    "  return 'not possible'\n",
    "\n",
    "# keep this function call here \n",
    "#print(ArrayChallenge(input()))"
   ]
  },
  {
   "cell_type": "markdown",
   "metadata": {},
   "source": [
    "Problem 2:"
   ]
  },
  {
   "cell_type": "markdown",
   "metadata": {},
   "source": [
    "Searching Challenge\n",
    "Have the function SearchingChallenge(strArr) read in the strArr parameter containing key:value pairs where the key is a string and the value is an integer. Your program should return a string with new key:value pairs separated by a comma such that each key appears only once with the total values summed up.\n",
    "\n",
    "For example: if strArr is [\"B:-1\", \"A:1\", \"B:3\", \"A:5\"] then your program should return the string A:6,B:2.\n",
    "\n",
    "Your final output string should return the keys in alphabetical order. Exclude keys that have a value of 0 after being summed up.\n",
    "Examples\n",
    "Input: [\"X:-1\", \"Y:1\", \"X:-4\", \"B:3\", \"X:5\"]\n",
    "Output: B:3,Y:1\n",
    "Input: [\"Z:0\", \"A:-1\"]\n",
    "Output: A:-1"
   ]
  },
  {
   "cell_type": "markdown",
   "metadata": {},
   "source": [
    "Solution:"
   ]
  },
  {
   "cell_type": "code",
   "execution_count": 12,
   "metadata": {},
   "outputs": [],
   "source": [
    "def SearchingChallenge(strArr):\n",
    "  # code goes here\n",
    "  d = {}\n",
    "  #iterate through input to generate dict\n",
    "  for element in strArr:\n",
    "    key = element.split(':')[0]\n",
    "    value = int(element.split(':')[1])\n",
    "    if key in d:\n",
    "      #add to key's existing value\n",
    "      d[key] = d[key]+value\n",
    "    else:\n",
    "      #insert new key value pair in dictionary\n",
    "      d[key] = value\n",
    "  \n",
    "  #sort dictionary by keys\n",
    "  sorted_dict = dict(sorted(d.items()))\n",
    "  \n",
    "  #iterate through dictionary to generate output\n",
    "  output_list = list()\n",
    "  for k, v in sorted_dict.items():\n",
    "    if v!=0:\n",
    "      output_list.append('{}:{}'.format(k,v))\n",
    "  return ','.join(output_list)\n",
    "\n",
    "# keep this function call here \n",
    "#print(SearchingChallenge(input()))"
   ]
  }
 ],
 "metadata": {
  "kernelspec": {
   "display_name": "Python 3.9.12 64-bit ('3.9.12')",
   "language": "python",
   "name": "python3"
  },
  "language_info": {
   "codemirror_mode": {
    "name": "ipython",
    "version": 3
   },
   "file_extension": ".py",
   "mimetype": "text/x-python",
   "name": "python",
   "nbconvert_exporter": "python",
   "pygments_lexer": "ipython3",
   "version": "3.9.12"
  },
  "orig_nbformat": 4,
  "vscode": {
   "interpreter": {
    "hash": "c3ef2950bab682039a2664a92c68d76c9e1082b3546275fa01132f9fcb2a7647"
   }
  }
 },
 "nbformat": 4,
 "nbformat_minor": 2
}
