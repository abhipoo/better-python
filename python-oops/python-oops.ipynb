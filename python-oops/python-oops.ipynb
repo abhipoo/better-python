{
 "cells": [
  {
   "cell_type": "code",
   "execution_count": 1,
   "metadata": {},
   "outputs": [],
   "source": [
    "import math"
   ]
  },
  {
   "cell_type": "code",
   "execution_count": 8,
   "metadata": {},
   "outputs": [],
   "source": [
    "class Circle():\n",
    "    version = '0.1' #class variable - shared data that will be shared across all instances\n",
    "\n",
    "    def __init__(self, radius):\n",
    "        self.radius = radius #instance variable\n",
    "    \n",
    "    def area(self):\n",
    "        return math.pi * self.radius * self.radius\n",
    "\n",
    "    def perimeter(self):\n",
    "        return 2 * math.pi * self.radius"
   ]
  },
  {
   "cell_type": "code",
   "execution_count": 5,
   "metadata": {},
   "outputs": [
    {
     "data": {
      "text/plain": [
       "153.93804002589985"
      ]
     },
     "execution_count": 5,
     "metadata": {},
     "output_type": "execute_result"
    }
   ],
   "source": [
    "small_pizza = Circle(7)\n",
    "small_pizza.area()"
   ]
  },
  {
   "cell_type": "code",
   "execution_count": null,
   "metadata": {},
   "outputs": [],
   "source": [
    "# Some python concepts that are different from Java / C++"
   ]
  },
  {
   "cell_type": "code",
   "execution_count": 7,
   "metadata": {},
   "outputs": [],
   "source": [
    "# There is no concept of a constant in Python !! \n",
    "# To denote a constants in Python, it is written in all caps. Example: MY_CONST  \n",
    "# Reference: https://stackoverflow.com/questions/2682745/how-do-i-create-a-constant-in-python"
   ]
  },
  {
   "cell_type": "code",
   "execution_count": null,
   "metadata": {},
   "outputs": [],
   "source": [
    "# There is no concept of private variables in Python!!\n",
    "# A private variable is a variable whose value cannot be changed outside the class.\n",
    "# To denote a private variable in python it is prefixed by underscore. Example: '_private_var'\n",
    "# For the equivalent of private variables in Python, see property decorator below in this notebook."
   ]
  },
  {
   "cell_type": "code",
   "execution_count": 14,
   "metadata": {},
   "outputs": [],
   "source": [
    "#Inheritence\n",
    "class Tire(Circle):\n",
    "    'Special type of circles'\n",
    "\n",
    "    def perimeter(self):\n",
    "        return super().perimeter() * 1.25\n",
    "        # Subclass concepts:\n",
    "        # If the parent get's called like above, it's called extending.\n",
    "        # If the parent does not get called, it's called overriding.  "
   ]
  },
  {
   "cell_type": "code",
   "execution_count": 13,
   "metadata": {},
   "outputs": [
    {
     "name": "stdout",
     "output_type": "stream",
     "text": [
      "138.23007675795088\n",
      "172.7875959474386\n"
     ]
    }
   ],
   "source": [
    "c = Circle(22)\n",
    "t = Tire(22)\n",
    "\n",
    "print(c.perimeter())\n",
    "print(t.perimeter())"
   ]
  },
  {
   "cell_type": "code",
   "execution_count": 17,
   "metadata": {},
   "outputs": [],
   "source": [
    "#Having multiple constructors\n",
    "\n",
    "class Circle():\n",
    "    version = '0.1' #class variable - shared data that will be shared across all instances\n",
    "\n",
    "    def __init__(self, radius):\n",
    "        self.radius = radius #instance variable\n",
    "    \n",
    "    def area(self):\n",
    "        return math.pi * self.radius * self.radius\n",
    "\n",
    "    def perimeter(self):\n",
    "        return 2 * math.pi * self.radius\n",
    "\n",
    "    @classmethod                #alternative constructor\n",
    "    def from_bbd(cls, bbd):\n",
    "        'Construct a circle from bounding box diagonal'\n",
    "        radius = bbd / 2.0 / math.sqrt(2.0)\n",
    "        return cls(radius)\n",
    "        # Note that in classmethods the class itself is passed as first paramter. (cls)\n",
    "        # Usually, the object of class is passed as  first paramter. (self)\n",
    "        # This gives us the ability to create factory methods / alternative constructors \n",
    "        # Like in this case where the classmethod returns an object of class.\n",
    "\n",
    "    @staticmethod\n",
    "    def static_sample():\n",
    "        print('Example of static method')\n",
    "        # Another type of method is a static method.\n",
    "        # This is unique because even though this method is inside of a class,\n",
    "        # neither object, nor class is passed as input paramter to it.\n",
    "    "
   ]
  },
  {
   "cell_type": "code",
   "execution_count": 19,
   "metadata": {},
   "outputs": [
    {
     "data": {
      "text/plain": [
       "1.7677669529663687"
      ]
     },
     "execution_count": 19,
     "metadata": {},
     "output_type": "execute_result"
    }
   ],
   "source": [
    "bbd_circle = Circle.from_bbd(5)\n",
    "bbd_circle.radius"
   ]
  },
  {
   "cell_type": "code",
   "execution_count": 24,
   "metadata": {},
   "outputs": [
    {
     "name": "stdout",
     "output_type": "stream",
     "text": [
      "Example of static method\n"
     ]
    }
   ],
   "source": [
    "Circle.static_sample()\n",
    "# A static method can be called directly from the class.\n",
    "# No need to instantiate an object and then call it."
   ]
  },
  {
   "cell_type": "code",
   "execution_count": 25,
   "metadata": {},
   "outputs": [],
   "source": [
    "# Property decorator\n",
    "# Property decorator helps us to implement getters and setters in Python\n",
    "\n",
    "class Circle():\n",
    "    version = '0.1' #class variable - shared data that will be shared across all instances\n",
    "\n",
    "    def __init__(self, radius):\n",
    "        self.radius = radius #instance variable\n",
    "    \n",
    "    @property         #getter\n",
    "    def radius(self):\n",
    "        'Radius of a circle'\n",
    "        return self.diameter / 2.0\n",
    "\n",
    "    @radius.setter\n",
    "    def radius(self, radius):\n",
    "        self.diameter = radius * 2.0"
   ]
  },
  {
   "cell_type": "code",
   "execution_count": 35,
   "metadata": {},
   "outputs": [
    {
     "name": "stdout",
     "output_type": "stream",
     "text": [
      "2.0\n",
      "4.0\n"
     ]
    }
   ],
   "source": [
    "c = Circle(2)\n",
    "print(c.radius)\n",
    "print(c.diameter)\n",
    "# Setting the radius automatically set the diameter, because we have defined so in the setter method"
   ]
  },
  {
   "cell_type": "code",
   "execution_count": 37,
   "metadata": {},
   "outputs": [
    {
     "name": "stdout",
     "output_type": "stream",
     "text": [
      "4.0\n"
     ]
    }
   ],
   "source": [
    "c.diameter = 8\n",
    "print(c.radius)\n",
    "# How did this happen though ? How did setting the diameter set the radius \n",
    "# This is other way round than defined in the setter method"
   ]
  },
  {
   "cell_type": "code",
   "execution_count": null,
   "metadata": {},
   "outputs": [],
   "source": []
  },
  {
   "cell_type": "code",
   "execution_count": null,
   "metadata": {},
   "outputs": [],
   "source": []
  },
  {
   "cell_type": "code",
   "execution_count": null,
   "metadata": {},
   "outputs": [],
   "source": []
  },
  {
   "cell_type": "code",
   "execution_count": null,
   "metadata": {},
   "outputs": [],
   "source": []
  },
  {
   "cell_type": "code",
   "execution_count": null,
   "metadata": {},
   "outputs": [],
   "source": []
  },
  {
   "cell_type": "code",
   "execution_count": null,
   "metadata": {},
   "outputs": [],
   "source": []
  }
 ],
 "metadata": {
  "kernelspec": {
   "display_name": "Python 3.9.12 64-bit ('3.9.12')",
   "language": "python",
   "name": "python3"
  },
  "language_info": {
   "codemirror_mode": {
    "name": "ipython",
    "version": 3
   },
   "file_extension": ".py",
   "mimetype": "text/x-python",
   "name": "python",
   "nbconvert_exporter": "python",
   "pygments_lexer": "ipython3",
   "version": "3.9.12"
  },
  "orig_nbformat": 4,
  "vscode": {
   "interpreter": {
    "hash": "c3ef2950bab682039a2664a92c68d76c9e1082b3546275fa01132f9fcb2a7647"
   }
  }
 },
 "nbformat": 4,
 "nbformat_minor": 2
}
