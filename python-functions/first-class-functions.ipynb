{
 "cells": [
  {
   "cell_type": "markdown",
   "metadata": {},
   "source": [
    "First class and higher order functions\n",
    "\n",
    "Resource: https://www.youtube.com/watch?v=kr0mpwqttM0"
   ]
  },
  {
   "cell_type": "markdown",
   "metadata": {},
   "source": [
    "First class functions: A programming language is said to have first class function if the functions can be treated like a variable. i.e they can be assigned to a variable and also a bunch of other stuff that's possible with variables."
   ]
  },
  {
   "cell_type": "markdown",
   "metadata": {},
   "source": [
    "Higher order functions: Functions which take other functions as input paramters or returns a function or both"
   ]
  },
  {
   "cell_type": "code",
   "execution_count": null,
   "metadata": {},
   "outputs": [],
   "source": []
  },
  {
   "cell_type": "markdown",
   "metadata": {},
   "source": [
    "Closures\n",
    "\n",
    "Resource: https://www.youtube.com/watch?v=swU3c34d2NQ\n",
    "\n",
    "A closure is an example of higher order function where the outer function returns an inner function and the inner function remembers the variables declared in its scope.\n",
    "\n",
    "\"A closure is an inner function that remembers and has access to variables in the local scope in which it was created even after the outer function has finished executing\""
   ]
  },
  {
   "cell_type": "code",
   "execution_count": null,
   "metadata": {},
   "outputs": [],
   "source": []
  },
  {
   "cell_type": "code",
   "execution_count": null,
   "metadata": {},
   "outputs": [],
   "source": []
  }
 ],
 "metadata": {
  "kernelspec": {
   "display_name": "Python 3.9.12 64-bit ('3.9.12')",
   "language": "python",
   "name": "python3"
  },
  "language_info": {
   "name": "python",
   "version": "3.9.12"
  },
  "orig_nbformat": 4,
  "vscode": {
   "interpreter": {
    "hash": "c3ef2950bab682039a2664a92c68d76c9e1082b3546275fa01132f9fcb2a7647"
   }
  }
 },
 "nbformat": 4,
 "nbformat_minor": 2
}
