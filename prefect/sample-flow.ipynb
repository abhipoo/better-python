{
 "cells": [
  {
   "cell_type": "markdown",
   "metadata": {},
   "source": [
    "Following tutorial described here: https://docs.prefect.io/tutorials/first-steps/"
   ]
  },
  {
   "cell_type": "code",
   "execution_count": 2,
   "metadata": {},
   "outputs": [],
   "source": [
    "from prefect import flow"
   ]
  },
  {
   "cell_type": "code",
   "execution_count": 3,
   "metadata": {},
   "outputs": [],
   "source": [
    "@flow\n",
    "def my_favorite_function():\n",
    "    print(\"What is your favorite number?\")\n",
    "    return 42"
   ]
  },
  {
   "cell_type": "code",
   "execution_count": 4,
   "metadata": {},
   "outputs": [
    {
     "name": "stderr",
     "output_type": "stream",
     "text": [
      "02:40:41.707 | INFO    | prefect.engine - Created flow run 'quantum-buffalo' for flow 'my-favorite-function'\n",
      "02:40:42.124 | INFO    | Flow run 'quantum-buffalo' - Finished in state Completed()\n"
     ]
    },
    {
     "name": "stdout",
     "output_type": "stream",
     "text": [
      "What is your favorite number?\n",
      "42\n"
     ]
    }
   ],
   "source": [
    "print(my_favorite_function())"
   ]
  },
  {
   "cell_type": "markdown",
   "metadata": {},
   "source": [
    "### Tasks are called from flows"
   ]
  },
  {
   "cell_type": "code",
   "execution_count": 6,
   "metadata": {},
   "outputs": [
    {
     "name": "stderr",
     "output_type": "stream",
     "text": [
      "00:13:02.084 | INFO    | prefect.engine - Created flow run 'impartial-pillbug' for flow 'flow_data_extraction'\n",
      "00:13:02.593 | INFO    | Flow run 'impartial-pillbug' - Created task run 'task_call_api-ded10bed-0' for task 'task_call_api'\n",
      "00:13:02.593 | INFO    | Flow run 'impartial-pillbug' - Executing 'task_call_api-ded10bed-0' immediately...\n",
      "00:13:03.590 | INFO    | Task run 'task_call_api-ded10bed-0' - Finished in state Completed()\n",
      "00:13:03.648 | INFO    | Flow run 'impartial-pillbug' - Created task run 'task_parse_response-6803447a-0' for task 'task_parse_response'\n",
      "00:13:03.656 | INFO    | Flow run 'impartial-pillbug' - Executing 'task_parse_response-6803447a-0' immediately...\n"
     ]
    },
    {
     "name": "stdout",
     "output_type": "stream",
     "text": [
      "200\n"
     ]
    },
    {
     "name": "stderr",
     "output_type": "stream",
     "text": [
      "00:13:03.832 | INFO    | Task run 'task_parse_response-6803447a-0' - Finished in state Completed()\n",
      "00:13:03.914 | INFO    | Flow run 'impartial-pillbug' - Finished in state Completed()\n"
     ]
    },
    {
     "name": "stdout",
     "output_type": "stream",
     "text": [
      "The biggest wildcat today is the Siberian Tiger. It can be more than 12 feet (3.6 m) long (about the size of a small car) and weigh up to 700 pounds (317 kg).\n"
     ]
    },
    {
     "data": {
      "text/plain": [
       "'The biggest wildcat today is the Siberian Tiger. It can be more than 12 feet (3.6 m) long (about the size of a small car) and weigh up to 700 pounds (317 kg).'"
      ]
     },
     "execution_count": 6,
     "metadata": {},
     "output_type": "execute_result"
    }
   ],
   "source": [
    "import requests\n",
    "from prefect import flow, task\n",
    "\n",
    "@task(name='task_call_api', description='Calls API')\n",
    "def call_api(url):\n",
    "    response = requests.get(url)\n",
    "    print(response.status_code)\n",
    "    return response.json()\n",
    "\n",
    "@task(name='task_parse_response', description='Parses response')\n",
    "def parse_fact(response):\n",
    "    fact = response[\"fact\"]\n",
    "    print(fact)\n",
    "    return fact\n",
    "\n",
    "@flow(name='flow_data_extraction', description='Calls API and parses response')\n",
    "def api_flow(url):\n",
    "    fact_json = call_api(url)\n",
    "    fact_text = parse_fact(fact_json)\n",
    "    return fact_text\n",
    "\n",
    "api_flow(\"https://catfact.ninja/fact\")"
   ]
  },
  {
   "cell_type": "markdown",
   "metadata": {},
   "source": [
    "### Tasks and flows both can be retried\n",
    "#### https://docs.prefect.io/tutorials/flow-task-config/#flow-and-task-retries"
   ]
  },
  {
   "cell_type": "code",
   "execution_count": 9,
   "metadata": {},
   "outputs": [
    {
     "name": "stderr",
     "output_type": "stream",
     "text": [
      "c:\\Users\\Lenovo\\AppData\\Local\\pypoetry\\Cache\\virtualenvs\\prefect-learning-oQ7bxwUN-py3.10\\lib\\site-packages\\prefect\\tasks.py:167: UserWarning: A task named 'failure' and defined at 'C:\\Users\\Lenovo\\AppData\\Local\\Temp\\ipykernel_3012\\3521611229.py:4' conflicts with another task. Consider specifying a unique `name` parameter in the task definition:\n",
      "\n",
      " `@task(name='my_unique_name', ...)`\n",
      "  warnings.warn(\n",
      "c:\\Users\\Lenovo\\AppData\\Local\\pypoetry\\Cache\\virtualenvs\\prefect-learning-oQ7bxwUN-py3.10\\lib\\site-packages\\prefect\\flows.py:176: UserWarning: A flow named 'test-retries' and defined at 'C:\\Users\\Lenovo\\AppData\\Local\\Temp\\ipykernel_3012\\3521611229.py:9' conflicts with another flow. Consider specifying a unique `name` parameter in the flow definition:\n",
      "\n",
      " `@flow(name='my_unique_name', ...)`\n",
      "  warnings.warn(\n",
      "00:28:11.174 | INFO    | prefect.engine - Created flow run 'cyber-gazelle' for flow 'test-retries'\n",
      "00:28:11.766 | INFO    | Flow run 'cyber-gazelle' - Created task run 'failure-f8b6b21b-0' for task 'failure'\n",
      "00:28:11.766 | INFO    | Flow run 'cyber-gazelle' - Executing 'failure-f8b6b21b-0' immediately...\n",
      "00:28:11.980 | ERROR   | Task run 'failure-f8b6b21b-0' - Encountered exception during execution:\n",
      "Traceback (most recent call last):\n",
      "  File \"c:\\Users\\Lenovo\\AppData\\Local\\pypoetry\\Cache\\virtualenvs\\prefect-learning-oQ7bxwUN-py3.10\\lib\\site-packages\\prefect\\engine.py\", line 1221, in orchestrate_task_run\n",
      "    result = await run_sync(task.fn, *args, **kwargs)\n",
      "  File \"c:\\Users\\Lenovo\\AppData\\Local\\pypoetry\\Cache\\virtualenvs\\prefect-learning-oQ7bxwUN-py3.10\\lib\\site-packages\\prefect\\utilities\\asyncutils.py\", line 68, in run_sync_in_worker_thread\n",
      "    return await anyio.to_thread.run_sync(call, cancellable=True)\n",
      "  File \"c:\\Users\\Lenovo\\AppData\\Local\\pypoetry\\Cache\\virtualenvs\\prefect-learning-oQ7bxwUN-py3.10\\lib\\site-packages\\anyio\\to_thread.py\", line 31, in run_sync\n",
      "    return await get_asynclib().run_sync_in_worker_thread(\n",
      "  File \"c:\\Users\\Lenovo\\AppData\\Local\\pypoetry\\Cache\\virtualenvs\\prefect-learning-oQ7bxwUN-py3.10\\lib\\site-packages\\anyio\\_backends\\_asyncio.py\", line 937, in run_sync_in_worker_thread\n",
      "    return await future\n",
      "  File \"c:\\Users\\Lenovo\\AppData\\Local\\pypoetry\\Cache\\virtualenvs\\prefect-learning-oQ7bxwUN-py3.10\\lib\\site-packages\\anyio\\_backends\\_asyncio.py\", line 867, in run\n",
      "    result = context.run(func, *args)\n",
      "  File \"C:\\Users\\Lenovo\\AppData\\Local\\Temp\\ipykernel_3012\\3521611229.py\", line 7, in failure\n",
      "    raise ValueError(\"bad code\")\n",
      "ValueError: bad code\n",
      "00:28:12.061 | INFO    | Task run 'failure-f8b6b21b-0' - Received non-final state 'AwaitingRetry' when proposing final state 'Failed' and will attempt to run again...\n"
     ]
    },
    {
     "name": "stdout",
     "output_type": "stream",
     "text": [
      "running\n"
     ]
    },
    {
     "name": "stderr",
     "output_type": "stream",
     "text": [
      "00:28:21.316 | ERROR   | Task run 'failure-f8b6b21b-0' - Encountered exception during execution:\n",
      "Traceback (most recent call last):\n",
      "  File \"c:\\Users\\Lenovo\\AppData\\Local\\pypoetry\\Cache\\virtualenvs\\prefect-learning-oQ7bxwUN-py3.10\\lib\\site-packages\\prefect\\engine.py\", line 1221, in orchestrate_task_run\n",
      "    result = await run_sync(task.fn, *args, **kwargs)\n",
      "  File \"c:\\Users\\Lenovo\\AppData\\Local\\pypoetry\\Cache\\virtualenvs\\prefect-learning-oQ7bxwUN-py3.10\\lib\\site-packages\\prefect\\utilities\\asyncutils.py\", line 68, in run_sync_in_worker_thread\n",
      "    return await anyio.to_thread.run_sync(call, cancellable=True)\n",
      "  File \"c:\\Users\\Lenovo\\AppData\\Local\\pypoetry\\Cache\\virtualenvs\\prefect-learning-oQ7bxwUN-py3.10\\lib\\site-packages\\anyio\\to_thread.py\", line 31, in run_sync\n",
      "    return await get_asynclib().run_sync_in_worker_thread(\n",
      "  File \"c:\\Users\\Lenovo\\AppData\\Local\\pypoetry\\Cache\\virtualenvs\\prefect-learning-oQ7bxwUN-py3.10\\lib\\site-packages\\anyio\\_backends\\_asyncio.py\", line 937, in run_sync_in_worker_thread\n",
      "    return await future\n",
      "  File \"c:\\Users\\Lenovo\\AppData\\Local\\pypoetry\\Cache\\virtualenvs\\prefect-learning-oQ7bxwUN-py3.10\\lib\\site-packages\\anyio\\_backends\\_asyncio.py\", line 867, in run\n",
      "    result = context.run(func, *args)\n",
      "  File \"C:\\Users\\Lenovo\\AppData\\Local\\Temp\\ipykernel_3012\\3521611229.py\", line 7, in failure\n",
      "    raise ValueError(\"bad code\")\n",
      "ValueError: bad code\n",
      "00:28:21.357 | INFO    | Task run 'failure-f8b6b21b-0' - Received non-final state 'AwaitingRetry' when proposing final state 'Failed' and will attempt to run again...\n"
     ]
    },
    {
     "name": "stdout",
     "output_type": "stream",
     "text": [
      "running\n"
     ]
    },
    {
     "name": "stderr",
     "output_type": "stream",
     "text": [
      "00:28:30.501 | ERROR   | Task run 'failure-f8b6b21b-0' - Encountered exception during execution:\n",
      "Traceback (most recent call last):\n",
      "  File \"c:\\Users\\Lenovo\\AppData\\Local\\pypoetry\\Cache\\virtualenvs\\prefect-learning-oQ7bxwUN-py3.10\\lib\\site-packages\\prefect\\engine.py\", line 1221, in orchestrate_task_run\n",
      "    result = await run_sync(task.fn, *args, **kwargs)\n",
      "  File \"c:\\Users\\Lenovo\\AppData\\Local\\pypoetry\\Cache\\virtualenvs\\prefect-learning-oQ7bxwUN-py3.10\\lib\\site-packages\\prefect\\utilities\\asyncutils.py\", line 68, in run_sync_in_worker_thread\n",
      "    return await anyio.to_thread.run_sync(call, cancellable=True)\n",
      "  File \"c:\\Users\\Lenovo\\AppData\\Local\\pypoetry\\Cache\\virtualenvs\\prefect-learning-oQ7bxwUN-py3.10\\lib\\site-packages\\anyio\\to_thread.py\", line 31, in run_sync\n",
      "    return await get_asynclib().run_sync_in_worker_thread(\n",
      "  File \"c:\\Users\\Lenovo\\AppData\\Local\\pypoetry\\Cache\\virtualenvs\\prefect-learning-oQ7bxwUN-py3.10\\lib\\site-packages\\anyio\\_backends\\_asyncio.py\", line 937, in run_sync_in_worker_thread\n",
      "    return await future\n",
      "  File \"c:\\Users\\Lenovo\\AppData\\Local\\pypoetry\\Cache\\virtualenvs\\prefect-learning-oQ7bxwUN-py3.10\\lib\\site-packages\\anyio\\_backends\\_asyncio.py\", line 867, in run\n",
      "    result = context.run(func, *args)\n",
      "  File \"C:\\Users\\Lenovo\\AppData\\Local\\Temp\\ipykernel_3012\\3521611229.py\", line 7, in failure\n",
      "    raise ValueError(\"bad code\")\n",
      "ValueError: bad code\n",
      "00:28:30.589 | ERROR   | Task run 'failure-f8b6b21b-0' - Finished in state Failed('Task run encountered an exception.')\n",
      "00:28:30.589 | ERROR   | Flow run 'cyber-gazelle' - Encountered exception during execution:\n",
      "Traceback (most recent call last):\n",
      "  File \"c:\\Users\\Lenovo\\AppData\\Local\\pypoetry\\Cache\\virtualenvs\\prefect-learning-oQ7bxwUN-py3.10\\lib\\site-packages\\prefect\\engine.py\", line 596, in orchestrate_flow_run\n",
      "    result = await run_sync(flow_call)\n",
      "  File \"c:\\Users\\Lenovo\\AppData\\Local\\pypoetry\\Cache\\virtualenvs\\prefect-learning-oQ7bxwUN-py3.10\\lib\\site-packages\\prefect\\utilities\\asyncutils.py\", line 68, in run_sync_in_worker_thread\n",
      "    return await anyio.to_thread.run_sync(call, cancellable=True)\n",
      "  File \"c:\\Users\\Lenovo\\AppData\\Local\\pypoetry\\Cache\\virtualenvs\\prefect-learning-oQ7bxwUN-py3.10\\lib\\site-packages\\anyio\\to_thread.py\", line 31, in run_sync\n",
      "    return await get_asynclib().run_sync_in_worker_thread(\n",
      "  File \"c:\\Users\\Lenovo\\AppData\\Local\\pypoetry\\Cache\\virtualenvs\\prefect-learning-oQ7bxwUN-py3.10\\lib\\site-packages\\anyio\\_backends\\_asyncio.py\", line 937, in run_sync_in_worker_thread\n",
      "    return await future\n",
      "  File \"c:\\Users\\Lenovo\\AppData\\Local\\pypoetry\\Cache\\virtualenvs\\prefect-learning-oQ7bxwUN-py3.10\\lib\\site-packages\\anyio\\_backends\\_asyncio.py\", line 867, in run\n",
      "    result = context.run(func, *args)\n",
      "  File \"C:\\Users\\Lenovo\\AppData\\Local\\Temp\\ipykernel_3012\\3521611229.py\", line 11, in test_retries\n",
      "    return failure()\n",
      "  File \"c:\\Users\\Lenovo\\AppData\\Local\\pypoetry\\Cache\\virtualenvs\\prefect-learning-oQ7bxwUN-py3.10\\lib\\site-packages\\prefect\\tasks.py\", line 295, in __call__\n",
      "    return enter_task_run_engine(\n",
      "  File \"c:\\Users\\Lenovo\\AppData\\Local\\pypoetry\\Cache\\virtualenvs\\prefect-learning-oQ7bxwUN-py3.10\\lib\\site-packages\\prefect\\engine.py\", line 736, in enter_task_run_engine\n",
      "    return run_async_from_worker_thread(begin_run)\n",
      "  File \"c:\\Users\\Lenovo\\AppData\\Local\\pypoetry\\Cache\\virtualenvs\\prefect-learning-oQ7bxwUN-py3.10\\lib\\site-packages\\prefect\\utilities\\asyncutils.py\", line 148, in run_async_from_worker_thread\n",
      "    return anyio.from_thread.run(call)\n",
      "  File \"c:\\Users\\Lenovo\\AppData\\Local\\pypoetry\\Cache\\virtualenvs\\prefect-learning-oQ7bxwUN-py3.10\\lib\\site-packages\\anyio\\from_thread.py\", line 49, in run\n",
      "    return asynclib.run_async_from_thread(func, *args)\n",
      "  File \"c:\\Users\\Lenovo\\AppData\\Local\\pypoetry\\Cache\\virtualenvs\\prefect-learning-oQ7bxwUN-py3.10\\lib\\site-packages\\anyio\\_backends\\_asyncio.py\", line 970, in run_async_from_thread\n",
      "    return f.result()\n",
      "  File \"C:\\Users\\Lenovo\\AppData\\Local\\Programs\\Python\\Python310\\lib\\concurrent\\futures\\_base.py\", line 446, in result\n",
      "    return self.__get_result()\n",
      "  File \"C:\\Users\\Lenovo\\AppData\\Local\\Programs\\Python\\Python310\\lib\\concurrent\\futures\\_base.py\", line 391, in __get_result\n",
      "    raise self._exception\n",
      "  File \"c:\\Users\\Lenovo\\AppData\\Local\\pypoetry\\Cache\\virtualenvs\\prefect-learning-oQ7bxwUN-py3.10\\lib\\site-packages\\prefect\\engine.py\", line 874, in get_task_call_return_value\n",
      "    return await future._result()\n",
      "  File \"c:\\Users\\Lenovo\\AppData\\Local\\pypoetry\\Cache\\virtualenvs\\prefect-learning-oQ7bxwUN-py3.10\\lib\\site-packages\\prefect\\futures.py\", line 237, in _result\n",
      "    return final_state.result(raise_on_failure=raise_on_failure)\n",
      "  File \"c:\\Users\\Lenovo\\AppData\\Local\\pypoetry\\Cache\\virtualenvs\\prefect-learning-oQ7bxwUN-py3.10\\lib\\site-packages\\prefect\\orion\\schemas\\states.py\", line 145, in result\n",
      "    raise data\n",
      "  File \"c:\\Users\\Lenovo\\AppData\\Local\\pypoetry\\Cache\\virtualenvs\\prefect-learning-oQ7bxwUN-py3.10\\lib\\site-packages\\prefect\\engine.py\", line 1221, in orchestrate_task_run\n",
      "    result = await run_sync(task.fn, *args, **kwargs)\n",
      "  File \"c:\\Users\\Lenovo\\AppData\\Local\\pypoetry\\Cache\\virtualenvs\\prefect-learning-oQ7bxwUN-py3.10\\lib\\site-packages\\prefect\\utilities\\asyncutils.py\", line 68, in run_sync_in_worker_thread\n",
      "    return await anyio.to_thread.run_sync(call, cancellable=True)\n",
      "  File \"c:\\Users\\Lenovo\\AppData\\Local\\pypoetry\\Cache\\virtualenvs\\prefect-learning-oQ7bxwUN-py3.10\\lib\\site-packages\\anyio\\to_thread.py\", line 31, in run_sync\n",
      "    return await get_asynclib().run_sync_in_worker_thread(\n",
      "  File \"c:\\Users\\Lenovo\\AppData\\Local\\pypoetry\\Cache\\virtualenvs\\prefect-learning-oQ7bxwUN-py3.10\\lib\\site-packages\\anyio\\_backends\\_asyncio.py\", line 937, in run_sync_in_worker_thread\n",
      "    return await future\n",
      "  File \"c:\\Users\\Lenovo\\AppData\\Local\\pypoetry\\Cache\\virtualenvs\\prefect-learning-oQ7bxwUN-py3.10\\lib\\site-packages\\anyio\\_backends\\_asyncio.py\", line 867, in run\n",
      "    result = context.run(func, *args)\n",
      "  File \"C:\\Users\\Lenovo\\AppData\\Local\\Temp\\ipykernel_3012\\3521611229.py\", line 7, in failure\n",
      "    raise ValueError(\"bad code\")\n",
      "ValueError: bad code\n",
      "00:28:30.685 | ERROR   | Flow run 'cyber-gazelle' - Finished in state Failed('Flow run encountered an exception.')\n"
     ]
    },
    {
     "name": "stdout",
     "output_type": "stream",
     "text": [
      "running\n"
     ]
    },
    {
     "ename": "ValueError",
     "evalue": "bad code",
     "output_type": "error",
     "traceback": [
      "\u001b[1;31m---------------------------------------------------------------------------\u001b[0m",
      "\u001b[1;31mValueError\u001b[0m                                Traceback (most recent call last)",
      "Cell \u001b[1;32mIn [9], line 13\u001b[0m\n\u001b[0;32m      9\u001b[0m \u001b[38;5;129m@flow\u001b[39m\n\u001b[0;32m     10\u001b[0m \u001b[38;5;28;01mdef\u001b[39;00m \u001b[38;5;21mtest_retries\u001b[39m():\n\u001b[0;32m     11\u001b[0m     \u001b[38;5;28;01mreturn\u001b[39;00m failure()\n\u001b[1;32m---> 13\u001b[0m \u001b[43mtest_retries\u001b[49m\u001b[43m(\u001b[49m\u001b[43m)\u001b[49m\n",
      "File \u001b[1;32mc:\\Users\\Lenovo\\AppData\\Local\\pypoetry\\Cache\\virtualenvs\\prefect-learning-oQ7bxwUN-py3.10\\lib\\site-packages\\prefect\\flows.py:390\u001b[0m, in \u001b[0;36mFlow.__call__\u001b[1;34m(self, return_state, *args, **kwargs)\u001b[0m\n\u001b[0;32m    386\u001b[0m parameters \u001b[39m=\u001b[39m get_call_parameters(\u001b[39mself\u001b[39m\u001b[39m.\u001b[39mfn, args, kwargs)\n\u001b[0;32m    388\u001b[0m return_type \u001b[39m=\u001b[39m \u001b[39m\"\u001b[39m\u001b[39mstate\u001b[39m\u001b[39m\"\u001b[39m \u001b[39mif\u001b[39;00m return_state \u001b[39melse\u001b[39;00m \u001b[39m\"\u001b[39m\u001b[39mresult\u001b[39m\u001b[39m\"\u001b[39m\n\u001b[1;32m--> 390\u001b[0m \u001b[39mreturn\u001b[39;00m enter_flow_run_engine_from_flow_call(\n\u001b[0;32m    391\u001b[0m     \u001b[39mself\u001b[39;49m, parameters, return_type\u001b[39m=\u001b[39;49mreturn_type\n\u001b[0;32m    392\u001b[0m )\n",
      "File \u001b[1;32mc:\\Users\\Lenovo\\AppData\\Local\\pypoetry\\Cache\\virtualenvs\\prefect-learning-oQ7bxwUN-py3.10\\lib\\site-packages\\prefect\\engine.py:156\u001b[0m, in \u001b[0;36menter_flow_run_engine_from_flow_call\u001b[1;34m(flow, parameters, return_type)\u001b[0m\n\u001b[0;32m    152\u001b[0m \u001b[39melif\u001b[39;00m in_async_main_thread():\n\u001b[0;32m    153\u001b[0m     \u001b[39m# An event loop is already running and we must create a blocking portal to\u001b[39;00m\n\u001b[0;32m    154\u001b[0m     \u001b[39m# run async code from this synchronous context\u001b[39;00m\n\u001b[0;32m    155\u001b[0m     \u001b[39mwith\u001b[39;00m start_blocking_portal() \u001b[39mas\u001b[39;00m portal:\n\u001b[1;32m--> 156\u001b[0m         \u001b[39mreturn\u001b[39;00m portal\u001b[39m.\u001b[39;49mcall(begin_run)\n\u001b[0;32m    157\u001b[0m \u001b[39melse\u001b[39;00m:\n\u001b[0;32m    158\u001b[0m     \u001b[39m# An event loop is not running so we will create one\u001b[39;00m\n\u001b[0;32m    159\u001b[0m     \u001b[39mreturn\u001b[39;00m anyio\u001b[39m.\u001b[39mrun(begin_run)\n",
      "File \u001b[1;32mc:\\Users\\Lenovo\\AppData\\Local\\pypoetry\\Cache\\virtualenvs\\prefect-learning-oQ7bxwUN-py3.10\\lib\\site-packages\\anyio\\from_thread.py:283\u001b[0m, in \u001b[0;36mBlockingPortal.call\u001b[1;34m(self, func, *args)\u001b[0m\n\u001b[0;32m    268\u001b[0m \u001b[39mdef\u001b[39;00m \u001b[39mcall\u001b[39m(\n\u001b[0;32m    269\u001b[0m     \u001b[39mself\u001b[39m,\n\u001b[0;32m    270\u001b[0m     func: Callable[\u001b[39m.\u001b[39m\u001b[39m.\u001b[39m\u001b[39m.\u001b[39m, Union[Coroutine[Any, Any, T_Retval], T_Retval]],\n\u001b[0;32m    271\u001b[0m     \u001b[39m*\u001b[39margs: \u001b[39mobject\u001b[39m\n\u001b[0;32m    272\u001b[0m ) \u001b[39m-\u001b[39m\u001b[39m>\u001b[39m T_Retval:\n\u001b[0;32m    273\u001b[0m     \u001b[39m\"\"\"\u001b[39;00m\n\u001b[0;32m    274\u001b[0m \u001b[39m    Call the given function in the event loop thread.\u001b[39;00m\n\u001b[0;32m    275\u001b[0m \n\u001b[1;32m   (...)\u001b[0m\n\u001b[0;32m    281\u001b[0m \n\u001b[0;32m    282\u001b[0m \u001b[39m    \"\"\"\u001b[39;00m\n\u001b[1;32m--> 283\u001b[0m     \u001b[39mreturn\u001b[39;00m cast(T_Retval, \u001b[39mself\u001b[39;49m\u001b[39m.\u001b[39;49mstart_task_soon(func, \u001b[39m*\u001b[39;49margs)\u001b[39m.\u001b[39;49mresult())\n",
      "File \u001b[1;32m~\\AppData\\Local\\Programs\\Python\\Python310\\lib\\concurrent\\futures\\_base.py:446\u001b[0m, in \u001b[0;36mFuture.result\u001b[1;34m(self, timeout)\u001b[0m\n\u001b[0;32m    444\u001b[0m     \u001b[39mraise\u001b[39;00m CancelledError()\n\u001b[0;32m    445\u001b[0m \u001b[39melif\u001b[39;00m \u001b[39mself\u001b[39m\u001b[39m.\u001b[39m_state \u001b[39m==\u001b[39m FINISHED:\n\u001b[1;32m--> 446\u001b[0m     \u001b[39mreturn\u001b[39;00m \u001b[39mself\u001b[39;49m\u001b[39m.\u001b[39;49m__get_result()\n\u001b[0;32m    447\u001b[0m \u001b[39melse\u001b[39;00m:\n\u001b[0;32m    448\u001b[0m     \u001b[39mraise\u001b[39;00m \u001b[39mTimeoutError\u001b[39;00m()\n",
      "File \u001b[1;32m~\\AppData\\Local\\Programs\\Python\\Python310\\lib\\concurrent\\futures\\_base.py:391\u001b[0m, in \u001b[0;36mFuture.__get_result\u001b[1;34m(self)\u001b[0m\n\u001b[0;32m    389\u001b[0m \u001b[39mif\u001b[39;00m \u001b[39mself\u001b[39m\u001b[39m.\u001b[39m_exception:\n\u001b[0;32m    390\u001b[0m     \u001b[39mtry\u001b[39;00m:\n\u001b[1;32m--> 391\u001b[0m         \u001b[39mraise\u001b[39;00m \u001b[39mself\u001b[39m\u001b[39m.\u001b[39m_exception\n\u001b[0;32m    392\u001b[0m     \u001b[39mfinally\u001b[39;00m:\n\u001b[0;32m    393\u001b[0m         \u001b[39m# Break a reference cycle with the exception in self._exception\u001b[39;00m\n\u001b[0;32m    394\u001b[0m         \u001b[39mself\u001b[39m \u001b[39m=\u001b[39m \u001b[39mNone\u001b[39;00m\n",
      "File \u001b[1;32mc:\\Users\\Lenovo\\AppData\\Local\\pypoetry\\Cache\\virtualenvs\\prefect-learning-oQ7bxwUN-py3.10\\lib\\site-packages\\anyio\\from_thread.py:219\u001b[0m, in \u001b[0;36mBlockingPortal._call_func\u001b[1;34m(self, func, args, kwargs, future)\u001b[0m\n\u001b[0;32m    216\u001b[0m             \u001b[39melse\u001b[39;00m:\n\u001b[0;32m    217\u001b[0m                 future\u001b[39m.\u001b[39madd_done_callback(callback)\n\u001b[1;32m--> 219\u001b[0m             retval \u001b[39m=\u001b[39m \u001b[39mawait\u001b[39;00m retval\n\u001b[0;32m    220\u001b[0m \u001b[39mexcept\u001b[39;00m \u001b[39mself\u001b[39m\u001b[39m.\u001b[39m_cancelled_exc_class:\n\u001b[0;32m    221\u001b[0m     future\u001b[39m.\u001b[39mcancel()\n",
      "File \u001b[1;32mc:\\Users\\Lenovo\\AppData\\Local\\pypoetry\\Cache\\virtualenvs\\prefect-learning-oQ7bxwUN-py3.10\\lib\\site-packages\\prefect\\client\\orion.py:82\u001b[0m, in \u001b[0;36minject_client.<locals>.with_injected_client\u001b[1;34m(*args, **kwargs)\u001b[0m\n\u001b[0;32m     80\u001b[0m \u001b[39masync\u001b[39;00m \u001b[39mwith\u001b[39;00m client_context \u001b[39mas\u001b[39;00m new_client:\n\u001b[0;32m     81\u001b[0m     kwargs\u001b[39m.\u001b[39msetdefault(\u001b[39m\"\u001b[39m\u001b[39mclient\u001b[39m\u001b[39m\"\u001b[39m, new_client \u001b[39mor\u001b[39;00m client)\n\u001b[1;32m---> 82\u001b[0m     \u001b[39mreturn\u001b[39;00m \u001b[39mawait\u001b[39;00m fn(\u001b[39m*\u001b[39margs, \u001b[39m*\u001b[39m\u001b[39m*\u001b[39mkwargs)\n",
      "File \u001b[1;32mc:\\Users\\Lenovo\\AppData\\Local\\pypoetry\\Cache\\virtualenvs\\prefect-learning-oQ7bxwUN-py3.10\\lib\\site-packages\\prefect\\engine.py:239\u001b[0m, in \u001b[0;36mcreate_then_begin_flow_run\u001b[1;34m(flow, parameters, return_type, client)\u001b[0m\n\u001b[0;32m    237\u001b[0m     \u001b[39mreturn\u001b[39;00m state\n\u001b[0;32m    238\u001b[0m \u001b[39melif\u001b[39;00m return_type \u001b[39m==\u001b[39m \u001b[39m\"\u001b[39m\u001b[39mresult\u001b[39m\u001b[39m\"\u001b[39m:\n\u001b[1;32m--> 239\u001b[0m     \u001b[39mreturn\u001b[39;00m state\u001b[39m.\u001b[39;49mresult()\n\u001b[0;32m    240\u001b[0m \u001b[39melse\u001b[39;00m:\n\u001b[0;32m    241\u001b[0m     \u001b[39mraise\u001b[39;00m \u001b[39mValueError\u001b[39;00m(\u001b[39mf\u001b[39m\u001b[39m\"\u001b[39m\u001b[39mInvalid return type for flow engine \u001b[39m\u001b[39m{\u001b[39;00mreturn_type\u001b[39m!r}\u001b[39;00m\u001b[39m.\u001b[39m\u001b[39m\"\u001b[39m)\n",
      "File \u001b[1;32mc:\\Users\\Lenovo\\AppData\\Local\\pypoetry\\Cache\\virtualenvs\\prefect-learning-oQ7bxwUN-py3.10\\lib\\site-packages\\prefect\\orion\\schemas\\states.py:145\u001b[0m, in \u001b[0;36mState.result\u001b[1;34m(self, raise_on_failure)\u001b[0m\n\u001b[0;32m    143\u001b[0m \u001b[39mif\u001b[39;00m (\u001b[39mself\u001b[39m\u001b[39m.\u001b[39mis_failed() \u001b[39mor\u001b[39;00m \u001b[39mself\u001b[39m\u001b[39m.\u001b[39mis_crashed()) \u001b[39mand\u001b[39;00m raise_on_failure:\n\u001b[0;32m    144\u001b[0m     \u001b[39mif\u001b[39;00m \u001b[39misinstance\u001b[39m(data, \u001b[39mException\u001b[39;00m):\n\u001b[1;32m--> 145\u001b[0m         \u001b[39mraise\u001b[39;00m data\n\u001b[0;32m    146\u001b[0m     \u001b[39melif\u001b[39;00m \u001b[39misinstance\u001b[39m(data, \u001b[39mBaseException\u001b[39;00m):\n\u001b[0;32m    147\u001b[0m         warnings\u001b[39m.\u001b[39mwarn(\n\u001b[0;32m    148\u001b[0m             \u001b[39mf\u001b[39m\u001b[39m\"\u001b[39m\u001b[39mState result is a \u001b[39m\u001b[39m{\u001b[39;00m\u001b[39mtype\u001b[39m(data)\u001b[39m.\u001b[39m\u001b[39m__name__\u001b[39m\u001b[39m!r}\u001b[39;00m\u001b[39m type and is not safe \u001b[39m\u001b[39m\"\u001b[39m\n\u001b[0;32m    149\u001b[0m             \u001b[39m\"\u001b[39m\u001b[39mto re-raise, it will be returned instead.\u001b[39m\u001b[39m\"\u001b[39m\n\u001b[0;32m    150\u001b[0m         )\n",
      "File \u001b[1;32mc:\\Users\\Lenovo\\AppData\\Local\\pypoetry\\Cache\\virtualenvs\\prefect-learning-oQ7bxwUN-py3.10\\lib\\site-packages\\prefect\\engine.py:596\u001b[0m, in \u001b[0;36morchestrate_flow_run\u001b[1;34m(flow, flow_run, parameters, interruptible, client, partial_flow_run_context)\u001b[0m\n\u001b[0;32m    590\u001b[0m             \u001b[39melse\u001b[39;00m:\n\u001b[0;32m    591\u001b[0m                 run_sync \u001b[39m=\u001b[39m (\n\u001b[0;32m    592\u001b[0m                     run_sync_in_interruptible_worker_thread\n\u001b[0;32m    593\u001b[0m                     \u001b[39mif\u001b[39;00m interruptible \u001b[39mor\u001b[39;00m timeout_scope\n\u001b[0;32m    594\u001b[0m                     \u001b[39melse\u001b[39;00m run_sync_in_worker_thread\n\u001b[0;32m    595\u001b[0m                 )\n\u001b[1;32m--> 596\u001b[0m                 result \u001b[39m=\u001b[39m \u001b[39mawait\u001b[39;00m run_sync(flow_call)\n\u001b[0;32m    598\u001b[0m         waited_for_task_runs \u001b[39m=\u001b[39m \u001b[39mawait\u001b[39;00m wait_for_task_runs_and_report_crashes(\n\u001b[0;32m    599\u001b[0m             flow_run_context\u001b[39m.\u001b[39mtask_run_futures, client\u001b[39m=\u001b[39mclient\n\u001b[0;32m    600\u001b[0m         )\n\u001b[0;32m    602\u001b[0m \u001b[39mexcept\u001b[39;00m \u001b[39mException\u001b[39;00m \u001b[39mas\u001b[39;00m exc:\n",
      "File \u001b[1;32mc:\\Users\\Lenovo\\AppData\\Local\\pypoetry\\Cache\\virtualenvs\\prefect-learning-oQ7bxwUN-py3.10\\lib\\site-packages\\prefect\\utilities\\asyncutils.py:68\u001b[0m, in \u001b[0;36mrun_sync_in_worker_thread\u001b[1;34m(__fn, *args, **kwargs)\u001b[0m\n\u001b[0;32m     57\u001b[0m \u001b[39m\"\"\"\u001b[39;00m\n\u001b[0;32m     58\u001b[0m \u001b[39mRuns a sync function in a new worker thread so that the main thread's event loop\u001b[39;00m\n\u001b[0;32m     59\u001b[0m \u001b[39mis not blocked\u001b[39;00m\n\u001b[1;32m   (...)\u001b[0m\n\u001b[0;32m     65\u001b[0m \u001b[39mthread may continue running — the outcome will just be ignored.\u001b[39;00m\n\u001b[0;32m     66\u001b[0m \u001b[39m\"\"\"\u001b[39;00m\n\u001b[0;32m     67\u001b[0m call \u001b[39m=\u001b[39m partial(__fn, \u001b[39m*\u001b[39margs, \u001b[39m*\u001b[39m\u001b[39m*\u001b[39mkwargs)\n\u001b[1;32m---> 68\u001b[0m \u001b[39mreturn\u001b[39;00m \u001b[39mawait\u001b[39;00m anyio\u001b[39m.\u001b[39mto_thread\u001b[39m.\u001b[39mrun_sync(call, cancellable\u001b[39m=\u001b[39m\u001b[39mTrue\u001b[39;00m)\n",
      "File \u001b[1;32mc:\\Users\\Lenovo\\AppData\\Local\\pypoetry\\Cache\\virtualenvs\\prefect-learning-oQ7bxwUN-py3.10\\lib\\site-packages\\anyio\\to_thread.py:31\u001b[0m, in \u001b[0;36mrun_sync\u001b[1;34m(func, cancellable, limiter, *args)\u001b[0m\n\u001b[0;32m     10\u001b[0m \u001b[39masync\u001b[39;00m \u001b[39mdef\u001b[39;00m \u001b[39mrun_sync\u001b[39m(\n\u001b[0;32m     11\u001b[0m     func: Callable[\u001b[39m.\u001b[39m\u001b[39m.\u001b[39m\u001b[39m.\u001b[39m, T_Retval],\n\u001b[0;32m     12\u001b[0m     \u001b[39m*\u001b[39margs: \u001b[39mobject\u001b[39m,\n\u001b[0;32m     13\u001b[0m     cancellable: \u001b[39mbool\u001b[39m \u001b[39m=\u001b[39m \u001b[39mFalse\u001b[39;00m,\n\u001b[0;32m     14\u001b[0m     limiter: Optional[CapacityLimiter] \u001b[39m=\u001b[39m \u001b[39mNone\u001b[39;00m\n\u001b[0;32m     15\u001b[0m ) \u001b[39m-\u001b[39m\u001b[39m>\u001b[39m T_Retval:\n\u001b[0;32m     16\u001b[0m     \u001b[39m\"\"\"\u001b[39;00m\n\u001b[0;32m     17\u001b[0m \u001b[39m    Call the given function with the given arguments in a worker thread.\u001b[39;00m\n\u001b[0;32m     18\u001b[0m \n\u001b[1;32m   (...)\u001b[0m\n\u001b[0;32m     29\u001b[0m \n\u001b[0;32m     30\u001b[0m \u001b[39m    \"\"\"\u001b[39;00m\n\u001b[1;32m---> 31\u001b[0m     \u001b[39mreturn\u001b[39;00m \u001b[39mawait\u001b[39;00m get_asynclib()\u001b[39m.\u001b[39mrun_sync_in_worker_thread(\n\u001b[0;32m     32\u001b[0m         func, \u001b[39m*\u001b[39margs, cancellable\u001b[39m=\u001b[39mcancellable, limiter\u001b[39m=\u001b[39mlimiter\n\u001b[0;32m     33\u001b[0m     )\n",
      "File \u001b[1;32mc:\\Users\\Lenovo\\AppData\\Local\\pypoetry\\Cache\\virtualenvs\\prefect-learning-oQ7bxwUN-py3.10\\lib\\site-packages\\anyio\\_backends\\_asyncio.py:937\u001b[0m, in \u001b[0;36mrun_sync_in_worker_thread\u001b[1;34m(func, cancellable, limiter, *args)\u001b[0m\n\u001b[0;32m    935\u001b[0m context\u001b[39m.\u001b[39mrun(sniffio\u001b[39m.\u001b[39mcurrent_async_library_cvar\u001b[39m.\u001b[39mset, \u001b[39mNone\u001b[39;00m)\n\u001b[0;32m    936\u001b[0m worker\u001b[39m.\u001b[39mqueue\u001b[39m.\u001b[39mput_nowait((context, func, args, future))\n\u001b[1;32m--> 937\u001b[0m \u001b[39mreturn\u001b[39;00m \u001b[39mawait\u001b[39;00m future\n",
      "File \u001b[1;32mc:\\Users\\Lenovo\\AppData\\Local\\pypoetry\\Cache\\virtualenvs\\prefect-learning-oQ7bxwUN-py3.10\\lib\\site-packages\\anyio\\_backends\\_asyncio.py:867\u001b[0m, in \u001b[0;36mWorkerThread.run\u001b[1;34m(self)\u001b[0m\n\u001b[0;32m    865\u001b[0m exception: Optional[\u001b[39mBaseException\u001b[39;00m] \u001b[39m=\u001b[39m \u001b[39mNone\u001b[39;00m\n\u001b[0;32m    866\u001b[0m \u001b[39mtry\u001b[39;00m:\n\u001b[1;32m--> 867\u001b[0m     result \u001b[39m=\u001b[39m context\u001b[39m.\u001b[39;49mrun(func, \u001b[39m*\u001b[39;49margs)\n\u001b[0;32m    868\u001b[0m \u001b[39mexcept\u001b[39;00m \u001b[39mBaseException\u001b[39;00m \u001b[39mas\u001b[39;00m exc:\n\u001b[0;32m    869\u001b[0m     exception \u001b[39m=\u001b[39m exc\n",
      "Cell \u001b[1;32mIn [9], line 11\u001b[0m, in \u001b[0;36mtest_retries\u001b[1;34m()\u001b[0m\n\u001b[0;32m      9\u001b[0m \u001b[38;5;129m@flow\u001b[39m\n\u001b[0;32m     10\u001b[0m \u001b[38;5;28;01mdef\u001b[39;00m \u001b[38;5;21mtest_retries\u001b[39m():\n\u001b[1;32m---> 11\u001b[0m     \u001b[38;5;28;01mreturn\u001b[39;00m \u001b[43mfailure\u001b[49m\u001b[43m(\u001b[49m\u001b[43m)\u001b[49m\n",
      "File \u001b[1;32mc:\\Users\\Lenovo\\AppData\\Local\\pypoetry\\Cache\\virtualenvs\\prefect-learning-oQ7bxwUN-py3.10\\lib\\site-packages\\prefect\\tasks.py:295\u001b[0m, in \u001b[0;36mTask.__call__\u001b[1;34m(self, return_state, wait_for, *args, **kwargs)\u001b[0m\n\u001b[0;32m    291\u001b[0m parameters \u001b[39m=\u001b[39m get_call_parameters(\u001b[39mself\u001b[39m\u001b[39m.\u001b[39mfn, args, kwargs)\n\u001b[0;32m    293\u001b[0m return_type \u001b[39m=\u001b[39m \u001b[39m\"\u001b[39m\u001b[39mstate\u001b[39m\u001b[39m\"\u001b[39m \u001b[39mif\u001b[39;00m return_state \u001b[39melse\u001b[39;00m \u001b[39m\"\u001b[39m\u001b[39mresult\u001b[39m\u001b[39m\"\u001b[39m\n\u001b[1;32m--> 295\u001b[0m \u001b[39mreturn\u001b[39;00m enter_task_run_engine(\n\u001b[0;32m    296\u001b[0m     \u001b[39mself\u001b[39;49m,\n\u001b[0;32m    297\u001b[0m     parameters\u001b[39m=\u001b[39;49mparameters,\n\u001b[0;32m    298\u001b[0m     wait_for\u001b[39m=\u001b[39;49mwait_for,\n\u001b[0;32m    299\u001b[0m     task_runner\u001b[39m=\u001b[39;49mSequentialTaskRunner(),\n\u001b[0;32m    300\u001b[0m     return_type\u001b[39m=\u001b[39;49mreturn_type,\n\u001b[0;32m    301\u001b[0m     mapped\u001b[39m=\u001b[39;49m\u001b[39mFalse\u001b[39;49;00m,\n\u001b[0;32m    302\u001b[0m )\n",
      "File \u001b[1;32mc:\\Users\\Lenovo\\AppData\\Local\\pypoetry\\Cache\\virtualenvs\\prefect-learning-oQ7bxwUN-py3.10\\lib\\site-packages\\prefect\\engine.py:736\u001b[0m, in \u001b[0;36menter_task_run_engine\u001b[1;34m(task, parameters, wait_for, return_type, task_runner, mapped)\u001b[0m\n\u001b[0;32m    734\u001b[0m \u001b[39m# Async or sync task run in sync flow run\u001b[39;00m\n\u001b[0;32m    735\u001b[0m \u001b[39melif\u001b[39;00m \u001b[39mnot\u001b[39;00m flow_run_context\u001b[39m.\u001b[39mflow\u001b[39m.\u001b[39misasync:\n\u001b[1;32m--> 736\u001b[0m     \u001b[39mreturn\u001b[39;00m run_async_from_worker_thread(begin_run)\n\u001b[0;32m    738\u001b[0m \u001b[39m# Sync task run in async flow run\u001b[39;00m\n\u001b[0;32m    739\u001b[0m \u001b[39melse\u001b[39;00m:\n\u001b[0;32m    740\u001b[0m     \u001b[39m# Call out to the sync portal since we are not in a worker thread\u001b[39;00m\n\u001b[0;32m    741\u001b[0m     \u001b[39mreturn\u001b[39;00m flow_run_context\u001b[39m.\u001b[39msync_portal\u001b[39m.\u001b[39mcall(begin_run)\n",
      "File \u001b[1;32mc:\\Users\\Lenovo\\AppData\\Local\\pypoetry\\Cache\\virtualenvs\\prefect-learning-oQ7bxwUN-py3.10\\lib\\site-packages\\prefect\\utilities\\asyncutils.py:148\u001b[0m, in \u001b[0;36mrun_async_from_worker_thread\u001b[1;34m(__fn, *args, **kwargs)\u001b[0m\n\u001b[0;32m    143\u001b[0m \u001b[39m\"\"\"\u001b[39;00m\n\u001b[0;32m    144\u001b[0m \u001b[39mRuns an async function in the main thread's event loop, blocking the worker\u001b[39;00m\n\u001b[0;32m    145\u001b[0m \u001b[39mthread until completion\u001b[39;00m\n\u001b[0;32m    146\u001b[0m \u001b[39m\"\"\"\u001b[39;00m\n\u001b[0;32m    147\u001b[0m call \u001b[39m=\u001b[39m partial(__fn, \u001b[39m*\u001b[39margs, \u001b[39m*\u001b[39m\u001b[39m*\u001b[39mkwargs)\n\u001b[1;32m--> 148\u001b[0m \u001b[39mreturn\u001b[39;00m anyio\u001b[39m.\u001b[39;49mfrom_thread\u001b[39m.\u001b[39;49mrun(call)\n",
      "File \u001b[1;32mc:\\Users\\Lenovo\\AppData\\Local\\pypoetry\\Cache\\virtualenvs\\prefect-learning-oQ7bxwUN-py3.10\\lib\\site-packages\\anyio\\from_thread.py:49\u001b[0m, in \u001b[0;36mrun\u001b[1;34m(func, *args)\u001b[0m\n\u001b[0;32m     46\u001b[0m \u001b[39mexcept\u001b[39;00m \u001b[39mAttributeError\u001b[39;00m:\n\u001b[0;32m     47\u001b[0m     \u001b[39mraise\u001b[39;00m \u001b[39mRuntimeError\u001b[39;00m(\u001b[39m\"\u001b[39m\u001b[39mThis function can only be run from an AnyIO worker thread\u001b[39m\u001b[39m\"\u001b[39m)\n\u001b[1;32m---> 49\u001b[0m \u001b[39mreturn\u001b[39;00m asynclib\u001b[39m.\u001b[39;49mrun_async_from_thread(func, \u001b[39m*\u001b[39;49margs)\n",
      "File \u001b[1;32mc:\\Users\\Lenovo\\AppData\\Local\\pypoetry\\Cache\\virtualenvs\\prefect-learning-oQ7bxwUN-py3.10\\lib\\site-packages\\anyio\\_backends\\_asyncio.py:970\u001b[0m, in \u001b[0;36mrun_async_from_thread\u001b[1;34m(func, *args)\u001b[0m\n\u001b[0;32m    964\u001b[0m \u001b[39mdef\u001b[39;00m \u001b[39mrun_async_from_thread\u001b[39m(\n\u001b[0;32m    965\u001b[0m     func: Callable[\u001b[39m.\u001b[39m\u001b[39m.\u001b[39m\u001b[39m.\u001b[39m, Coroutine[Any, Any, T_Retval]], \u001b[39m*\u001b[39margs: \u001b[39mobject\u001b[39m\n\u001b[0;32m    966\u001b[0m ) \u001b[39m-\u001b[39m\u001b[39m>\u001b[39m T_Retval:\n\u001b[0;32m    967\u001b[0m     f: concurrent\u001b[39m.\u001b[39mfutures\u001b[39m.\u001b[39mFuture[T_Retval] \u001b[39m=\u001b[39m asyncio\u001b[39m.\u001b[39mrun_coroutine_threadsafe(\n\u001b[0;32m    968\u001b[0m         func(\u001b[39m*\u001b[39margs), threadlocals\u001b[39m.\u001b[39mloop\n\u001b[0;32m    969\u001b[0m     )\n\u001b[1;32m--> 970\u001b[0m     \u001b[39mreturn\u001b[39;00m f\u001b[39m.\u001b[39;49mresult()\n",
      "File \u001b[1;32m~\\AppData\\Local\\Programs\\Python\\Python310\\lib\\concurrent\\futures\\_base.py:446\u001b[0m, in \u001b[0;36mFuture.result\u001b[1;34m(self, timeout)\u001b[0m\n\u001b[0;32m    444\u001b[0m     \u001b[39mraise\u001b[39;00m CancelledError()\n\u001b[0;32m    445\u001b[0m \u001b[39melif\u001b[39;00m \u001b[39mself\u001b[39m\u001b[39m.\u001b[39m_state \u001b[39m==\u001b[39m FINISHED:\n\u001b[1;32m--> 446\u001b[0m     \u001b[39mreturn\u001b[39;00m \u001b[39mself\u001b[39;49m\u001b[39m.\u001b[39;49m__get_result()\n\u001b[0;32m    447\u001b[0m \u001b[39melse\u001b[39;00m:\n\u001b[0;32m    448\u001b[0m     \u001b[39mraise\u001b[39;00m \u001b[39mTimeoutError\u001b[39;00m()\n",
      "File \u001b[1;32m~\\AppData\\Local\\Programs\\Python\\Python310\\lib\\concurrent\\futures\\_base.py:391\u001b[0m, in \u001b[0;36mFuture.__get_result\u001b[1;34m(self)\u001b[0m\n\u001b[0;32m    389\u001b[0m \u001b[39mif\u001b[39;00m \u001b[39mself\u001b[39m\u001b[39m.\u001b[39m_exception:\n\u001b[0;32m    390\u001b[0m     \u001b[39mtry\u001b[39;00m:\n\u001b[1;32m--> 391\u001b[0m         \u001b[39mraise\u001b[39;00m \u001b[39mself\u001b[39m\u001b[39m.\u001b[39m_exception\n\u001b[0;32m    392\u001b[0m     \u001b[39mfinally\u001b[39;00m:\n\u001b[0;32m    393\u001b[0m         \u001b[39m# Break a reference cycle with the exception in self._exception\u001b[39;00m\n\u001b[0;32m    394\u001b[0m         \u001b[39mself\u001b[39m \u001b[39m=\u001b[39m \u001b[39mNone\u001b[39;00m\n",
      "File \u001b[1;32mc:\\Users\\Lenovo\\AppData\\Local\\pypoetry\\Cache\\virtualenvs\\prefect-learning-oQ7bxwUN-py3.10\\lib\\site-packages\\prefect\\engine.py:874\u001b[0m, in \u001b[0;36mget_task_call_return_value\u001b[1;34m(task, flow_run_context, parameters, wait_for, return_type, task_runner, extra_task_inputs)\u001b[0m\n\u001b[0;32m    872\u001b[0m     \u001b[39mreturn\u001b[39;00m \u001b[39mawait\u001b[39;00m future\u001b[39m.\u001b[39m_wait()\n\u001b[0;32m    873\u001b[0m \u001b[39melif\u001b[39;00m return_type \u001b[39m==\u001b[39m \u001b[39m\"\u001b[39m\u001b[39mresult\u001b[39m\u001b[39m\"\u001b[39m:\n\u001b[1;32m--> 874\u001b[0m     \u001b[39mreturn\u001b[39;00m \u001b[39mawait\u001b[39;00m future\u001b[39m.\u001b[39m_result()\n\u001b[0;32m    875\u001b[0m \u001b[39melse\u001b[39;00m:\n\u001b[0;32m    876\u001b[0m     \u001b[39mraise\u001b[39;00m \u001b[39mValueError\u001b[39;00m(\u001b[39mf\u001b[39m\u001b[39m\"\u001b[39m\u001b[39mInvalid return type for task engine \u001b[39m\u001b[39m{\u001b[39;00mreturn_type\u001b[39m!r}\u001b[39;00m\u001b[39m.\u001b[39m\u001b[39m\"\u001b[39m)\n",
      "File \u001b[1;32mc:\\Users\\Lenovo\\AppData\\Local\\pypoetry\\Cache\\virtualenvs\\prefect-learning-oQ7bxwUN-py3.10\\lib\\site-packages\\prefect\\futures.py:237\u001b[0m, in \u001b[0;36mPrefectFuture._result\u001b[1;34m(self, timeout, raise_on_failure)\u001b[0m\n\u001b[0;32m    235\u001b[0m \u001b[39mif\u001b[39;00m \u001b[39mnot\u001b[39;00m final_state:\n\u001b[0;32m    236\u001b[0m     \u001b[39mraise\u001b[39;00m \u001b[39mTimeoutError\u001b[39;00m(\u001b[39m\"\u001b[39m\u001b[39mCall timed out before task finished.\u001b[39m\u001b[39m\"\u001b[39m)\n\u001b[1;32m--> 237\u001b[0m \u001b[39mreturn\u001b[39;00m final_state\u001b[39m.\u001b[39;49mresult(raise_on_failure\u001b[39m=\u001b[39;49mraise_on_failure)\n",
      "File \u001b[1;32mc:\\Users\\Lenovo\\AppData\\Local\\pypoetry\\Cache\\virtualenvs\\prefect-learning-oQ7bxwUN-py3.10\\lib\\site-packages\\prefect\\orion\\schemas\\states.py:145\u001b[0m, in \u001b[0;36mState.result\u001b[1;34m(self, raise_on_failure)\u001b[0m\n\u001b[0;32m    143\u001b[0m \u001b[39mif\u001b[39;00m (\u001b[39mself\u001b[39m\u001b[39m.\u001b[39mis_failed() \u001b[39mor\u001b[39;00m \u001b[39mself\u001b[39m\u001b[39m.\u001b[39mis_crashed()) \u001b[39mand\u001b[39;00m raise_on_failure:\n\u001b[0;32m    144\u001b[0m     \u001b[39mif\u001b[39;00m \u001b[39misinstance\u001b[39m(data, \u001b[39mException\u001b[39;00m):\n\u001b[1;32m--> 145\u001b[0m         \u001b[39mraise\u001b[39;00m data\n\u001b[0;32m    146\u001b[0m     \u001b[39melif\u001b[39;00m \u001b[39misinstance\u001b[39m(data, \u001b[39mBaseException\u001b[39;00m):\n\u001b[0;32m    147\u001b[0m         warnings\u001b[39m.\u001b[39mwarn(\n\u001b[0;32m    148\u001b[0m             \u001b[39mf\u001b[39m\u001b[39m\"\u001b[39m\u001b[39mState result is a \u001b[39m\u001b[39m{\u001b[39;00m\u001b[39mtype\u001b[39m(data)\u001b[39m.\u001b[39m\u001b[39m__name__\u001b[39m\u001b[39m!r}\u001b[39;00m\u001b[39m type and is not safe \u001b[39m\u001b[39m\"\u001b[39m\n\u001b[0;32m    149\u001b[0m             \u001b[39m\"\u001b[39m\u001b[39mto re-raise, it will be returned instead.\u001b[39m\u001b[39m\"\u001b[39m\n\u001b[0;32m    150\u001b[0m         )\n",
      "File \u001b[1;32mc:\\Users\\Lenovo\\AppData\\Local\\pypoetry\\Cache\\virtualenvs\\prefect-learning-oQ7bxwUN-py3.10\\lib\\site-packages\\prefect\\engine.py:1221\u001b[0m, in \u001b[0;36morchestrate_task_run\u001b[1;34m(task, task_run, parameters, wait_for, result_filesystem, interruptible, client)\u001b[0m\n\u001b[0;32m   1215\u001b[0m         \u001b[39melse\u001b[39;00m:\n\u001b[0;32m   1216\u001b[0m             run_sync \u001b[39m=\u001b[39m (\n\u001b[0;32m   1217\u001b[0m                 run_sync_in_interruptible_worker_thread\n\u001b[0;32m   1218\u001b[0m                 \u001b[39mif\u001b[39;00m interruptible\n\u001b[0;32m   1219\u001b[0m                 \u001b[39melse\u001b[39;00m run_sync_in_worker_thread\n\u001b[0;32m   1220\u001b[0m             )\n\u001b[1;32m-> 1221\u001b[0m             result \u001b[39m=\u001b[39m \u001b[39mawait\u001b[39;00m run_sync(task\u001b[39m.\u001b[39mfn, \u001b[39m*\u001b[39margs, \u001b[39m*\u001b[39m\u001b[39m*\u001b[39mkwargs)\n\u001b[0;32m   1223\u001b[0m \u001b[39mexcept\u001b[39;00m \u001b[39mException\u001b[39;00m \u001b[39mas\u001b[39;00m exc:\n\u001b[0;32m   1224\u001b[0m     logger\u001b[39m.\u001b[39merror(\n\u001b[0;32m   1225\u001b[0m         \u001b[39mf\u001b[39m\u001b[39m\"\u001b[39m\u001b[39mEncountered exception during execution:\u001b[39m\u001b[39m\"\u001b[39m,\n\u001b[0;32m   1226\u001b[0m         exc_info\u001b[39m=\u001b[39m\u001b[39mTrue\u001b[39;00m,\n\u001b[0;32m   1227\u001b[0m     )\n",
      "File \u001b[1;32mc:\\Users\\Lenovo\\AppData\\Local\\pypoetry\\Cache\\virtualenvs\\prefect-learning-oQ7bxwUN-py3.10\\lib\\site-packages\\prefect\\utilities\\asyncutils.py:68\u001b[0m, in \u001b[0;36mrun_sync_in_worker_thread\u001b[1;34m(__fn, *args, **kwargs)\u001b[0m\n\u001b[0;32m     57\u001b[0m \u001b[39m\"\"\"\u001b[39;00m\n\u001b[0;32m     58\u001b[0m \u001b[39mRuns a sync function in a new worker thread so that the main thread's event loop\u001b[39;00m\n\u001b[0;32m     59\u001b[0m \u001b[39mis not blocked\u001b[39;00m\n\u001b[1;32m   (...)\u001b[0m\n\u001b[0;32m     65\u001b[0m \u001b[39mthread may continue running — the outcome will just be ignored.\u001b[39;00m\n\u001b[0;32m     66\u001b[0m \u001b[39m\"\"\"\u001b[39;00m\n\u001b[0;32m     67\u001b[0m call \u001b[39m=\u001b[39m partial(__fn, \u001b[39m*\u001b[39margs, \u001b[39m*\u001b[39m\u001b[39m*\u001b[39mkwargs)\n\u001b[1;32m---> 68\u001b[0m \u001b[39mreturn\u001b[39;00m \u001b[39mawait\u001b[39;00m anyio\u001b[39m.\u001b[39mto_thread\u001b[39m.\u001b[39mrun_sync(call, cancellable\u001b[39m=\u001b[39m\u001b[39mTrue\u001b[39;00m)\n",
      "File \u001b[1;32mc:\\Users\\Lenovo\\AppData\\Local\\pypoetry\\Cache\\virtualenvs\\prefect-learning-oQ7bxwUN-py3.10\\lib\\site-packages\\anyio\\to_thread.py:31\u001b[0m, in \u001b[0;36mrun_sync\u001b[1;34m(func, cancellable, limiter, *args)\u001b[0m\n\u001b[0;32m     10\u001b[0m \u001b[39masync\u001b[39;00m \u001b[39mdef\u001b[39;00m \u001b[39mrun_sync\u001b[39m(\n\u001b[0;32m     11\u001b[0m     func: Callable[\u001b[39m.\u001b[39m\u001b[39m.\u001b[39m\u001b[39m.\u001b[39m, T_Retval],\n\u001b[0;32m     12\u001b[0m     \u001b[39m*\u001b[39margs: \u001b[39mobject\u001b[39m,\n\u001b[0;32m     13\u001b[0m     cancellable: \u001b[39mbool\u001b[39m \u001b[39m=\u001b[39m \u001b[39mFalse\u001b[39;00m,\n\u001b[0;32m     14\u001b[0m     limiter: Optional[CapacityLimiter] \u001b[39m=\u001b[39m \u001b[39mNone\u001b[39;00m\n\u001b[0;32m     15\u001b[0m ) \u001b[39m-\u001b[39m\u001b[39m>\u001b[39m T_Retval:\n\u001b[0;32m     16\u001b[0m     \u001b[39m\"\"\"\u001b[39;00m\n\u001b[0;32m     17\u001b[0m \u001b[39m    Call the given function with the given arguments in a worker thread.\u001b[39;00m\n\u001b[0;32m     18\u001b[0m \n\u001b[1;32m   (...)\u001b[0m\n\u001b[0;32m     29\u001b[0m \n\u001b[0;32m     30\u001b[0m \u001b[39m    \"\"\"\u001b[39;00m\n\u001b[1;32m---> 31\u001b[0m     \u001b[39mreturn\u001b[39;00m \u001b[39mawait\u001b[39;00m get_asynclib()\u001b[39m.\u001b[39mrun_sync_in_worker_thread(\n\u001b[0;32m     32\u001b[0m         func, \u001b[39m*\u001b[39margs, cancellable\u001b[39m=\u001b[39mcancellable, limiter\u001b[39m=\u001b[39mlimiter\n\u001b[0;32m     33\u001b[0m     )\n",
      "File \u001b[1;32mc:\\Users\\Lenovo\\AppData\\Local\\pypoetry\\Cache\\virtualenvs\\prefect-learning-oQ7bxwUN-py3.10\\lib\\site-packages\\anyio\\_backends\\_asyncio.py:937\u001b[0m, in \u001b[0;36mrun_sync_in_worker_thread\u001b[1;34m(func, cancellable, limiter, *args)\u001b[0m\n\u001b[0;32m    935\u001b[0m context\u001b[39m.\u001b[39mrun(sniffio\u001b[39m.\u001b[39mcurrent_async_library_cvar\u001b[39m.\u001b[39mset, \u001b[39mNone\u001b[39;00m)\n\u001b[0;32m    936\u001b[0m worker\u001b[39m.\u001b[39mqueue\u001b[39m.\u001b[39mput_nowait((context, func, args, future))\n\u001b[1;32m--> 937\u001b[0m \u001b[39mreturn\u001b[39;00m \u001b[39mawait\u001b[39;00m future\n",
      "File \u001b[1;32mc:\\Users\\Lenovo\\AppData\\Local\\pypoetry\\Cache\\virtualenvs\\prefect-learning-oQ7bxwUN-py3.10\\lib\\site-packages\\anyio\\_backends\\_asyncio.py:867\u001b[0m, in \u001b[0;36mWorkerThread.run\u001b[1;34m(self)\u001b[0m\n\u001b[0;32m    865\u001b[0m exception: Optional[\u001b[39mBaseException\u001b[39;00m] \u001b[39m=\u001b[39m \u001b[39mNone\u001b[39;00m\n\u001b[0;32m    866\u001b[0m \u001b[39mtry\u001b[39;00m:\n\u001b[1;32m--> 867\u001b[0m     result \u001b[39m=\u001b[39m context\u001b[39m.\u001b[39;49mrun(func, \u001b[39m*\u001b[39;49margs)\n\u001b[0;32m    868\u001b[0m \u001b[39mexcept\u001b[39;00m \u001b[39mBaseException\u001b[39;00m \u001b[39mas\u001b[39;00m exc:\n\u001b[0;32m    869\u001b[0m     exception \u001b[39m=\u001b[39m exc\n",
      "Cell \u001b[1;32mIn [9], line 7\u001b[0m, in \u001b[0;36mfailure\u001b[1;34m()\u001b[0m\n\u001b[0;32m      4\u001b[0m \u001b[38;5;129m@task\u001b[39m(retries\u001b[38;5;241m=\u001b[39m\u001b[38;5;241m2\u001b[39m, retry_delay_seconds\u001b[38;5;241m=\u001b[39m\u001b[38;5;241m10\u001b[39m)\n\u001b[0;32m      5\u001b[0m \u001b[38;5;28;01mdef\u001b[39;00m \u001b[38;5;21mfailure\u001b[39m():\n\u001b[0;32m      6\u001b[0m     \u001b[38;5;28mprint\u001b[39m(\u001b[38;5;124m'\u001b[39m\u001b[38;5;124mrunning\u001b[39m\u001b[38;5;124m'\u001b[39m)\n\u001b[1;32m----> 7\u001b[0m     \u001b[38;5;28;01mraise\u001b[39;00m \u001b[38;5;167;01mValueError\u001b[39;00m(\u001b[38;5;124m\"\u001b[39m\u001b[38;5;124mbad code\u001b[39m\u001b[38;5;124m\"\u001b[39m)\n",
      "\u001b[1;31mValueError\u001b[0m: bad code"
     ]
    }
   ],
   "source": [
    "from prefect import flow, task\n",
    "\n",
    "# this tasks runs 3 times before the flow fails\n",
    "@task(retries=2, retry_delay_seconds=10)\n",
    "def failure():\n",
    "    print('running')\n",
    "    raise ValueError(\"bad code\")\n",
    "\n",
    "@flow\n",
    "def test_retries():\n",
    "    return failure()\n",
    "\n",
    "test_retries()"
   ]
  },
  {
   "cell_type": "code",
   "execution_count": null,
   "metadata": {},
   "outputs": [],
   "source": []
  },
  {
   "cell_type": "code",
   "execution_count": null,
   "metadata": {},
   "outputs": [],
   "source": []
  }
 ],
 "metadata": {
  "kernelspec": {
   "display_name": "Python 3.10.5 ('prefect-learning-oQ7bxwUN-py3.10')",
   "language": "python",
   "name": "python3"
  },
  "language_info": {
   "codemirror_mode": {
    "name": "ipython",
    "version": 3
   },
   "file_extension": ".py",
   "mimetype": "text/x-python",
   "name": "python",
   "nbconvert_exporter": "python",
   "pygments_lexer": "ipython3",
   "version": "3.10.5"
  },
  "orig_nbformat": 4,
  "vscode": {
   "interpreter": {
    "hash": "05764f18e9f8eaa8c78e597519c04de6af8ea245ccb2373603bf57c6facc66df"
   }
  }
 },
 "nbformat": 4,
 "nbformat_minor": 2
}
