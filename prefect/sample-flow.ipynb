{
 "cells": [
  {
   "cell_type": "markdown",
   "metadata": {},
   "source": [
    "Following tutorial described here: https://docs.prefect.io/tutorials/first-steps/"
   ]
  },
  {
   "cell_type": "code",
   "execution_count": 2,
   "metadata": {},
   "outputs": [],
   "source": [
    "from prefect import flow"
   ]
  },
  {
   "cell_type": "code",
   "execution_count": 3,
   "metadata": {},
   "outputs": [],
   "source": [
    "@flow\n",
    "def my_favorite_function():\n",
    "    print(\"What is your favorite number?\")\n",
    "    return 42"
   ]
  },
  {
   "cell_type": "code",
   "execution_count": 4,
   "metadata": {},
   "outputs": [
    {
     "name": "stderr",
     "output_type": "stream",
     "text": [
      "02:40:41.707 | INFO    | prefect.engine - Created flow run 'quantum-buffalo' for flow 'my-favorite-function'\n",
      "02:40:42.124 | INFO    | Flow run 'quantum-buffalo' - Finished in state Completed()\n"
     ]
    },
    {
     "name": "stdout",
     "output_type": "stream",
     "text": [
      "What is your favorite number?\n",
      "42\n"
     ]
    }
   ],
   "source": [
    "print(my_favorite_function())"
   ]
  },
  {
   "cell_type": "markdown",
   "metadata": {},
   "source": [
    "### Tasks are called from flows"
   ]
  },
  {
   "cell_type": "code",
   "execution_count": 6,
   "metadata": {},
   "outputs": [
    {
     "name": "stderr",
     "output_type": "stream",
     "text": [
      "00:13:02.084 | INFO    | prefect.engine - Created flow run 'impartial-pillbug' for flow 'flow_data_extraction'\n",
      "00:13:02.593 | INFO    | Flow run 'impartial-pillbug' - Created task run 'task_call_api-ded10bed-0' for task 'task_call_api'\n",
      "00:13:02.593 | INFO    | Flow run 'impartial-pillbug' - Executing 'task_call_api-ded10bed-0' immediately...\n",
      "00:13:03.590 | INFO    | Task run 'task_call_api-ded10bed-0' - Finished in state Completed()\n",
      "00:13:03.648 | INFO    | Flow run 'impartial-pillbug' - Created task run 'task_parse_response-6803447a-0' for task 'task_parse_response'\n",
      "00:13:03.656 | INFO    | Flow run 'impartial-pillbug' - Executing 'task_parse_response-6803447a-0' immediately...\n"
     ]
    },
    {
     "name": "stdout",
     "output_type": "stream",
     "text": [
      "200\n"
     ]
    },
    {
     "name": "stderr",
     "output_type": "stream",
     "text": [
      "00:13:03.832 | INFO    | Task run 'task_parse_response-6803447a-0' - Finished in state Completed()\n",
      "00:13:03.914 | INFO    | Flow run 'impartial-pillbug' - Finished in state Completed()\n"
     ]
    },
    {
     "name": "stdout",
     "output_type": "stream",
     "text": [
      "The biggest wildcat today is the Siberian Tiger. It can be more than 12 feet (3.6 m) long (about the size of a small car) and weigh up to 700 pounds (317 kg).\n"
     ]
    },
    {
     "data": {
      "text/plain": [
       "'The biggest wildcat today is the Siberian Tiger. It can be more than 12 feet (3.6 m) long (about the size of a small car) and weigh up to 700 pounds (317 kg).'"
      ]
     },
     "execution_count": 6,
     "metadata": {},
     "output_type": "execute_result"
    }
   ],
   "source": [
    "import requests\n",
    "from prefect import flow, task\n",
    "\n",
    "@task(name='task_call_api', description='Calls API')\n",
    "def call_api(url):\n",
    "    response = requests.get(url)\n",
    "    print(response.status_code)\n",
    "    return response.json()\n",
    "\n",
    "@task(name='task_parse_response', description='Parses response')\n",
    "def parse_fact(response):\n",
    "    fact = response[\"fact\"]\n",
    "    print(fact)\n",
    "    return fact\n",
    "\n",
    "@flow(name='flow_data_extraction', description='Calls API and parses response')\n",
    "def api_flow(url):\n",
    "    fact_json = call_api(url)\n",
    "    fact_text = parse_fact(fact_json)\n",
    "    return fact_text\n",
    "\n",
    "api_flow(\"https://catfact.ninja/fact\")"
   ]
  },
  {
   "cell_type": "markdown",
   "metadata": {},
   "source": [
    "### Tasks and flows both can be retried\n",
    "#### https://docs.prefect.io/tutorials/flow-task-config/#flow-and-task-retries"
   ]
  },
  {
   "cell_type": "code",
   "execution_count": 11,
   "metadata": {},
   "outputs": [
    {
     "name": "stderr",
     "output_type": "stream",
     "text": [
      "c:\\Users\\Lenovo\\AppData\\Local\\pypoetry\\Cache\\virtualenvs\\prefect-learning-oQ7bxwUN-py3.10\\lib\\site-packages\\prefect\\tasks.py:167: UserWarning: A task named 'failure' and defined at 'C:\\Users\\Lenovo\\AppData\\Local\\Temp\\ipykernel_3012\\3272433379.py:4' conflicts with another task. Consider specifying a unique `name` parameter in the task definition:\n",
      "\n",
      " `@task(name='my_unique_name', ...)`\n",
      "  warnings.warn(\n",
      "c:\\Users\\Lenovo\\AppData\\Local\\pypoetry\\Cache\\virtualenvs\\prefect-learning-oQ7bxwUN-py3.10\\lib\\site-packages\\prefect\\flows.py:176: UserWarning: A flow named 'test-retries' and defined at 'C:\\Users\\Lenovo\\AppData\\Local\\Temp\\ipykernel_3012\\3272433379.py:9' conflicts with another flow. Consider specifying a unique `name` parameter in the flow definition:\n",
      "\n",
      " `@flow(name='my_unique_name', ...)`\n",
      "  warnings.warn(\n"
     ]
    }
   ],
   "source": [
    "from prefect import flow, task\n",
    "\n",
    "# this tasks runs 3 times before the flow fails\n",
    "@task(retries=1, retry_delay_seconds=10)\n",
    "def failure():\n",
    "    print('running')\n",
    "    raise ValueError(\"bad code\")\n",
    "\n",
    "@flow\n",
    "def test_retries():\n",
    "    return failure()\n",
    "\n",
    "#test_retries()"
   ]
  },
  {
   "cell_type": "markdown",
   "metadata": {},
   "source": [
    "### Task runners\n",
    "#### https://docs.prefect.io/tutorials/execution/\n",
    "\n",
    "Different Types of task runners are:\n",
    "\n",
    "ConcurrentTaskRunner: Runs tasks concurrently.\n",
    "SequentialTaskRunner: Runs tasks sequentially.\n",
    "DaskTaskRunner: Distributed / Parallel computing. "
   ]
  },
  {
   "cell_type": "markdown",
   "metadata": {},
   "source": [
    "ConcurrentTaskRunner"
   ]
  },
  {
   "cell_type": "code",
   "execution_count": 12,
   "metadata": {},
   "outputs": [
    {
     "name": "stderr",
     "output_type": "stream",
     "text": [
      "01:02:45.071 | INFO    | prefect.engine - Created flow run 'delightful-sparrow' for flow 'my-flow'\n",
      "01:02:45.437 | INFO    | Flow run 'delightful-sparrow' - Created task run 'print_values-0bb9a2c3-1' for task 'print_values'\n",
      "01:02:45.437 | INFO    | Flow run 'delightful-sparrow' - Submitted task run 'print_values-0bb9a2c3-1' for execution.\n",
      "01:02:45.477 | INFO    | Flow run 'delightful-sparrow' - Created task run 'print_values-0bb9a2c3-0' for task 'print_values'\n",
      "01:02:45.477 | INFO    | Flow run 'delightful-sparrow' - Submitted task run 'print_values-0bb9a2c3-0' for execution.\n"
     ]
    },
    {
     "name": "stdout",
     "output_type": "stream",
     "text": [
      "AAAA\r"
     ]
    },
    {
     "name": "stderr",
     "output_type": "stream",
     "text": [
      "01:02:50.790 | INFO    | Task run 'print_values-0bb9a2c3-1' - Finished in state Completed()\n"
     ]
    },
    {
     "name": "stdout",
     "output_type": "stream",
     "text": [
      "AAAA\r"
     ]
    },
    {
     "name": "stderr",
     "output_type": "stream",
     "text": [
      "01:02:53.388 | INFO    | Task run 'print_values-0bb9a2c3-0' - Finished in state Completed()\n",
      "01:02:53.477 | INFO    | Flow run 'delightful-sparrow' - Finished in state Completed('All states completed.')\n"
     ]
    },
    {
     "name": "stdout",
     "output_type": "stream",
     "text": [
      "AAAA\r"
     ]
    }
   ],
   "source": [
    "import time\n",
    "from prefect import task, flow\n",
    "\n",
    "@task\n",
    "def print_values(values):\n",
    "    for value in values:\n",
    "        time.sleep(0.5)\n",
    "        print(value, end=\"\\r\")\n",
    "\n",
    "@flow\n",
    "def my_flow():\n",
    "    print_values.submit([\"AAAA\"] * 15)\n",
    "    print_values.submit([\"BBBB\"] * 10)\n",
    "\n",
    "if __name__ == \"__main__\":\n",
    "    my_flow()"
   ]
  },
  {
   "cell_type": "markdown",
   "metadata": {},
   "source": [
    "SequentialTaskRunner"
   ]
  },
  {
   "cell_type": "code",
   "execution_count": 13,
   "metadata": {},
   "outputs": [
    {
     "name": "stderr",
     "output_type": "stream",
     "text": [
      "c:\\Users\\Lenovo\\AppData\\Local\\pypoetry\\Cache\\virtualenvs\\prefect-learning-oQ7bxwUN-py3.10\\lib\\site-packages\\prefect\\tasks.py:167: UserWarning: A task named 'print_values' and defined at 'C:\\Users\\Lenovo\\AppData\\Local\\Temp\\ipykernel_3012\\1773945071.py:5' conflicts with another task. Consider specifying a unique `name` parameter in the task definition:\n",
      "\n",
      " `@task(name='my_unique_name', ...)`\n",
      "  warnings.warn(\n",
      "c:\\Users\\Lenovo\\AppData\\Local\\pypoetry\\Cache\\virtualenvs\\prefect-learning-oQ7bxwUN-py3.10\\lib\\site-packages\\prefect\\flows.py:176: UserWarning: A flow named 'my-flow' and defined at 'C:\\Users\\Lenovo\\AppData\\Local\\Temp\\ipykernel_3012\\1773945071.py:11' conflicts with another flow. Consider specifying a unique `name` parameter in the flow definition:\n",
      "\n",
      " `@flow(name='my_unique_name', ...)`\n",
      "  warnings.warn(\n",
      "01:04:56.362 | INFO    | prefect.engine - Created flow run 'meticulous-dragon' for flow 'my-flow'\n",
      "01:04:56.766 | INFO    | Flow run 'meticulous-dragon' - Created task run 'print_values-0bb9a2c3-0' for task 'print_values'\n",
      "01:04:56.766 | INFO    | Flow run 'meticulous-dragon' - Executing 'print_values-0bb9a2c3-0' immediately...\n"
     ]
    },
    {
     "name": "stdout",
     "output_type": "stream",
     "text": [
      "AAAA\r"
     ]
    },
    {
     "name": "stderr",
     "output_type": "stream",
     "text": [
      "01:05:04.605 | INFO    | Task run 'print_values-0bb9a2c3-0' - Finished in state Completed()\n",
      "01:05:04.687 | INFO    | Flow run 'meticulous-dragon' - Created task run 'print_values-0bb9a2c3-1' for task 'print_values'\n",
      "01:05:04.687 | INFO    | Flow run 'meticulous-dragon' - Executing 'print_values-0bb9a2c3-1' immediately...\n"
     ]
    },
    {
     "name": "stdout",
     "output_type": "stream",
     "text": [
      "BBBB\r"
     ]
    },
    {
     "name": "stderr",
     "output_type": "stream",
     "text": [
      "01:05:09.994 | INFO    | Task run 'print_values-0bb9a2c3-1' - Finished in state Completed()\n"
     ]
    },
    {
     "name": "stdout",
     "output_type": "stream",
     "text": [
      "BBBB\r"
     ]
    },
    {
     "name": "stderr",
     "output_type": "stream",
     "text": [
      "01:05:10.098 | INFO    | Flow run 'meticulous-dragon' - Finished in state Completed('All states completed.')\n"
     ]
    }
   ],
   "source": [
    "import time\n",
    "from prefect import task, flow\n",
    "from prefect.task_runners import SequentialTaskRunner\n",
    "\n",
    "@task\n",
    "def print_values(values):\n",
    "    for value in values:\n",
    "        time.sleep(0.5)\n",
    "        print(value, end=\"\\r\")\n",
    "\n",
    "@flow(task_runner=SequentialTaskRunner())\n",
    "def my_flow():\n",
    "    print_values.submit([\"AAAA\"] * 15)\n",
    "    print_values.submit([\"BBBB\"] * 10)\n",
    "\n",
    "if __name__ == \"__main__\":\n",
    "    my_flow()"
   ]
  },
  {
   "cell_type": "markdown",
   "metadata": {},
   "source": [
    "### To checkout Prefect UI, run command: prefect orion start\n",
    "\n",
    "https://docs.prefect.io/tutorials/orion/"
   ]
  },
  {
   "cell_type": "markdown",
   "metadata": {},
   "source": [
    "Deploy Prefect workflows:\n",
    "https://docs.prefect.io/tutorials/deployments/"
   ]
  },
  {
   "cell_type": "code",
   "execution_count": null,
   "metadata": {},
   "outputs": [],
   "source": []
  }
 ],
 "metadata": {
  "kernelspec": {
   "display_name": "Python 3.10.5 ('prefect-learning-oQ7bxwUN-py3.10')",
   "language": "python",
   "name": "python3"
  },
  "language_info": {
   "codemirror_mode": {
    "name": "ipython",
    "version": 3
   },
   "file_extension": ".py",
   "mimetype": "text/x-python",
   "name": "python",
   "nbconvert_exporter": "python",
   "pygments_lexer": "ipython3",
   "version": "3.10.5"
  },
  "orig_nbformat": 4,
  "vscode": {
   "interpreter": {
    "hash": "05764f18e9f8eaa8c78e597519c04de6af8ea245ccb2373603bf57c6facc66df"
   }
  }
 },
 "nbformat": 4,
 "nbformat_minor": 2
}
