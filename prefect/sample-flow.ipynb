{
 "cells": [
  {
   "cell_type": "markdown",
   "metadata": {},
   "source": [
    "Following tutorial described here: https://docs.prefect.io/tutorials/first-steps/"
   ]
  },
  {
   "cell_type": "code",
   "execution_count": 2,
   "metadata": {},
   "outputs": [],
   "source": [
    "from prefect import flow"
   ]
  },
  {
   "cell_type": "code",
   "execution_count": 3,
   "metadata": {},
   "outputs": [],
   "source": [
    "@flow\n",
    "def my_favorite_function():\n",
    "    print(\"What is your favorite number?\")\n",
    "    return 42"
   ]
  },
  {
   "cell_type": "code",
   "execution_count": 4,
   "metadata": {},
   "outputs": [
    {
     "name": "stderr",
     "output_type": "stream",
     "text": [
      "02:40:41.707 | INFO    | prefect.engine - Created flow run 'quantum-buffalo' for flow 'my-favorite-function'\n",
      "02:40:42.124 | INFO    | Flow run 'quantum-buffalo' - Finished in state Completed()\n"
     ]
    },
    {
     "name": "stdout",
     "output_type": "stream",
     "text": [
      "What is your favorite number?\n",
      "42\n"
     ]
    }
   ],
   "source": [
    "print(my_favorite_function())"
   ]
  },
  {
   "cell_type": "markdown",
   "metadata": {},
   "source": [
    "### Tasks are called from flows"
   ]
  },
  {
   "cell_type": "code",
   "execution_count": 5,
   "metadata": {},
   "outputs": [
    {
     "name": "stderr",
     "output_type": "stream",
     "text": [
      "02:49:57.922 | INFO    | prefect.engine - Created flow run 'intelligent-kingfisher' for flow 'api-flow'\n",
      "02:49:58.394 | INFO    | Flow run 'intelligent-kingfisher' - Created task run 'call_api-ded10bed-0' for task 'call_api'\n",
      "02:49:58.394 | INFO    | Flow run 'intelligent-kingfisher' - Executing 'call_api-ded10bed-0' immediately...\n",
      "02:49:59.519 | INFO    | Task run 'call_api-ded10bed-0' - Finished in state Completed()\n",
      "02:49:59.608 | INFO    | Flow run 'intelligent-kingfisher' - Created task run 'parse_fact-6803447a-0' for task 'parse_fact'\n",
      "02:49:59.608 | INFO    | Flow run 'intelligent-kingfisher' - Executing 'parse_fact-6803447a-0' immediately...\n"
     ]
    },
    {
     "name": "stdout",
     "output_type": "stream",
     "text": [
      "200\n"
     ]
    },
    {
     "name": "stderr",
     "output_type": "stream",
     "text": [
      "02:49:59.807 | INFO    | Task run 'parse_fact-6803447a-0' - Finished in state Completed()\n",
      "02:49:59.879 | INFO    | Flow run 'intelligent-kingfisher' - Finished in state Completed()\n"
     ]
    },
    {
     "name": "stdout",
     "output_type": "stream",
     "text": [
      "Blue-eyed, white cats are often prone to deafness.\n"
     ]
    },
    {
     "data": {
      "text/plain": [
       "'Blue-eyed, white cats are often prone to deafness.'"
      ]
     },
     "execution_count": 5,
     "metadata": {},
     "output_type": "execute_result"
    }
   ],
   "source": [
    "import requests\n",
    "from prefect import flow, task\n",
    "\n",
    "@task\n",
    "def call_api(url):\n",
    "    response = requests.get(url)\n",
    "    print(response.status_code)\n",
    "    return response.json()\n",
    "\n",
    "@task\n",
    "def parse_fact(response):\n",
    "    fact = response[\"fact\"]\n",
    "    print(fact)\n",
    "    return fact\n",
    "\n",
    "@flow\n",
    "def api_flow(url):\n",
    "    fact_json = call_api(url)\n",
    "    fact_text = parse_fact(fact_json)\n",
    "    return fact_text\n",
    "\n",
    "api_flow(\"https://catfact.ninja/fact\")"
   ]
  },
  {
   "cell_type": "code",
   "execution_count": null,
   "metadata": {},
   "outputs": [],
   "source": []
  },
  {
   "cell_type": "code",
   "execution_count": null,
   "metadata": {},
   "outputs": [],
   "source": []
  },
  {
   "cell_type": "code",
   "execution_count": null,
   "metadata": {},
   "outputs": [],
   "source": []
  }
 ],
 "metadata": {
  "kernelspec": {
   "display_name": "Python 3.10.5 ('prefect-learning-oQ7bxwUN-py3.10')",
   "language": "python",
   "name": "python3"
  },
  "language_info": {
   "codemirror_mode": {
    "name": "ipython",
    "version": 3
   },
   "file_extension": ".py",
   "mimetype": "text/x-python",
   "name": "python",
   "nbconvert_exporter": "python",
   "pygments_lexer": "ipython3",
   "version": "3.10.5"
  },
  "orig_nbformat": 4,
  "vscode": {
   "interpreter": {
    "hash": "05764f18e9f8eaa8c78e597519c04de6af8ea245ccb2373603bf57c6facc66df"
   }
  }
 },
 "nbformat": 4,
 "nbformat_minor": 2
}
